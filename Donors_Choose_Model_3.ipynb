{
 "cells": [
  {
   "cell_type": "markdown",
   "metadata": {
    "colab_type": "text",
    "id": "4t_lrZc3KDw3"
   },
   "source": [
    "# Donors Choose - Model 3"
   ]
  },
  {
   "cell_type": "code",
   "execution_count": 1,
   "metadata": {
    "colab": {
     "base_uri": "https://localhost:8080/",
     "height": 34
    },
    "colab_type": "code",
    "id": "TAonmY67KDw5",
    "outputId": "96e06504-9976-4cf4-e20c-47ced3b7d383"
   },
   "outputs": [
    {
     "name": "stderr",
     "output_type": "stream",
     "text": [
      "Using TensorFlow backend.\n"
     ]
    }
   ],
   "source": [
    "# importing required libraries\n",
    "import warnings\n",
    "warnings.filterwarnings(\"ignore\")\n",
    "import pandas as pd\n",
    "import numpy as np\n",
    "from keras.layers import Input, Embedding, LSTM, Dropout, BatchNormalization, Dense, concatenate, Flatten, Conv1D, MaxPool1D, LeakyReLU, ELU, SpatialDropout1D, MaxPooling1D, GlobalAveragePooling1D, GlobalMaxPooling1D\n",
    "from keras.preprocessing.text import Tokenizer, one_hot\n",
    "from keras.preprocessing.sequence import pad_sequences\n",
    "from keras.models import Model, load_model\n",
    "from keras.utils import np_utils\n",
    "from keras import regularizers\n",
    "from keras.optimizers import *\n",
    "from keras.callbacks import ModelCheckpoint, EarlyStopping, TensorBoard, ReduceLROnPlateau\n",
    "\n",
    "from sklearn.feature_extraction.text import TfidfVectorizer, CountVectorizer\n",
    "from sklearn.metrics import roc_auc_score\n",
    "from sklearn.model_selection import train_test_split\n",
    "\n",
    "import tensorflow as tf\n",
    "import matplotlib.pyplot as plt\n",
    "%matplotlib inline\n",
    "import re\n",
    "from tqdm import tqdm\n",
    "from sklearn.preprocessing import LabelEncoder\n",
    "import seaborn as sns\n",
    "import pickle\n",
    "from sklearn.preprocessing import StandardScaler\n",
    "from scipy.sparse import hstack"
   ]
  },
  {
   "cell_type": "code",
   "execution_count": 2,
   "metadata": {
    "colab": {
     "base_uri": "https://localhost:8080/",
     "height": 122
    },
    "colab_type": "code",
    "id": "O-z3yrn7KTB2",
    "outputId": "ebecdae3-8d72-4c38-ce87-a71d233bd191"
   },
   "outputs": [
    {
     "name": "stdout",
     "output_type": "stream",
     "text": [
      "Go to this URL in a browser: https://accounts.google.com/o/oauth2/auth?client_id=947318989803-6bn6qk8qdgf4n4g3pfee6491hc0brc4i.apps.googleusercontent.com&redirect_uri=urn%3Aietf%3Awg%3Aoauth%3A2.0%3Aoob&scope=email%20https%3A%2F%2Fwww.googleapis.com%2Fauth%2Fdocs.test%20https%3A%2F%2Fwww.googleapis.com%2Fauth%2Fdrive%20https%3A%2F%2Fwww.googleapis.com%2Fauth%2Fdrive.photos.readonly%20https%3A%2F%2Fwww.googleapis.com%2Fauth%2Fpeopleapi.readonly&response_type=code\n",
      "\n",
      "Enter your authorization code:\n",
      "··········\n",
      "Mounted at /content/drive\n"
     ]
    }
   ],
   "source": [
    "from google.colab import drive\n",
    "drive.mount('/content/drive')"
   ]
  },
  {
   "cell_type": "code",
   "execution_count": 3,
   "metadata": {
    "colab": {
     "base_uri": "https://localhost:8080/",
     "height": 683
    },
    "colab_type": "code",
    "id": "DYDykjFCKDw-",
    "outputId": "07c90d97-4b2a-4553-c343-dc5f62b05b93"
   },
   "outputs": [
    {
     "data": {
      "text/html": [
       "<div>\n",
       "<style scoped>\n",
       "    .dataframe tbody tr th:only-of-type {\n",
       "        vertical-align: middle;\n",
       "    }\n",
       "\n",
       "    .dataframe tbody tr th {\n",
       "        vertical-align: top;\n",
       "    }\n",
       "\n",
       "    .dataframe thead th {\n",
       "        text-align: right;\n",
       "    }\n",
       "</style>\n",
       "<table border=\"1\" class=\"dataframe\">\n",
       "  <thead>\n",
       "    <tr style=\"text-align: right;\">\n",
       "      <th></th>\n",
       "      <th>Unnamed: 0</th>\n",
       "      <th>Unnamed: 0.1</th>\n",
       "      <th>id</th>\n",
       "      <th>teacher_id</th>\n",
       "      <th>teacher_prefix</th>\n",
       "      <th>school_state</th>\n",
       "      <th>project_submitted_datetime</th>\n",
       "      <th>project_grade_category</th>\n",
       "      <th>project_subject_categories</th>\n",
       "      <th>project_subject_subcategories</th>\n",
       "      <th>project_title</th>\n",
       "      <th>project_essay_1</th>\n",
       "      <th>project_essay_2</th>\n",
       "      <th>project_essay_3</th>\n",
       "      <th>project_essay_4</th>\n",
       "      <th>project_resource_summary</th>\n",
       "      <th>teacher_number_of_previously_posted_projects</th>\n",
       "      <th>project_is_approved</th>\n",
       "      <th>essay</th>\n",
       "      <th>price</th>\n",
       "      <th>quantity</th>\n",
       "      <th>std_price</th>\n",
       "      <th>nrm_price</th>\n",
       "      <th>project_summary_numerical</th>\n",
       "    </tr>\n",
       "  </thead>\n",
       "  <tbody>\n",
       "    <tr>\n",
       "      <th>0</th>\n",
       "      <td>0</td>\n",
       "      <td>160221</td>\n",
       "      <td>p253737</td>\n",
       "      <td>c90749f5d961ff158d4b4d1e7dc665fc</td>\n",
       "      <td>mrs</td>\n",
       "      <td>in</td>\n",
       "      <td>2016-12-05 13:43:57</td>\n",
       "      <td>grades_prek_2</td>\n",
       "      <td>literacy_language</td>\n",
       "      <td>esl_literacy</td>\n",
       "      <td>educational support english learners home</td>\n",
       "      <td>My students are English learners that are work...</td>\n",
       "      <td>\\\"The limits of your language are the limits o...</td>\n",
       "      <td>NaN</td>\n",
       "      <td>NaN</td>\n",
       "      <td>My students need opportunities to practice beg...</td>\n",
       "      <td>0</td>\n",
       "      <td>0</td>\n",
       "      <td>students english learners working english seco...</td>\n",
       "      <td>154.60</td>\n",
       "      <td>23</td>\n",
       "      <td>-0.390533</td>\n",
       "      <td>0.015397</td>\n",
       "      <td>0</td>\n",
       "    </tr>\n",
       "    <tr>\n",
       "      <th>1</th>\n",
       "      <td>1</td>\n",
       "      <td>140945</td>\n",
       "      <td>p258326</td>\n",
       "      <td>897464ce9ddc600bced1151f324dd63a</td>\n",
       "      <td>mr</td>\n",
       "      <td>fl</td>\n",
       "      <td>2016-10-25 09:22:10</td>\n",
       "      <td>grades_6_8</td>\n",
       "      <td>history_civics_health_sports</td>\n",
       "      <td>civics_government_teamsports</td>\n",
       "      <td>wanted projector hungry learners</td>\n",
       "      <td>Our students arrive to our school eager to lea...</td>\n",
       "      <td>The projector we need for our school is very c...</td>\n",
       "      <td>NaN</td>\n",
       "      <td>NaN</td>\n",
       "      <td>My students need a projector to help with view...</td>\n",
       "      <td>7</td>\n",
       "      <td>1</td>\n",
       "      <td>students arrive school eager learn polite gene...</td>\n",
       "      <td>299.00</td>\n",
       "      <td>1</td>\n",
       "      <td>0.002396</td>\n",
       "      <td>0.029839</td>\n",
       "      <td>0</td>\n",
       "    </tr>\n",
       "    <tr>\n",
       "      <th>2</th>\n",
       "      <td>2</td>\n",
       "      <td>21895</td>\n",
       "      <td>p182444</td>\n",
       "      <td>3465aaf82da834c0582ebd0ef8040ca0</td>\n",
       "      <td>ms</td>\n",
       "      <td>az</td>\n",
       "      <td>2016-08-31 12:03:56</td>\n",
       "      <td>grades_6_8</td>\n",
       "      <td>health_sports</td>\n",
       "      <td>health_wellness_teamsports</td>\n",
       "      <td>soccer equipment awesome middle school students</td>\n",
       "      <td>\\r\\n\\\"True champions aren't always the ones th...</td>\n",
       "      <td>The students on the campus come to school know...</td>\n",
       "      <td>NaN</td>\n",
       "      <td>NaN</td>\n",
       "      <td>My students need shine guards, athletic socks,...</td>\n",
       "      <td>1</td>\n",
       "      <td>0</td>\n",
       "      <td>true champions not always ones win guts mia ha...</td>\n",
       "      <td>516.85</td>\n",
       "      <td>22</td>\n",
       "      <td>0.595191</td>\n",
       "      <td>0.051628</td>\n",
       "      <td>0</td>\n",
       "    </tr>\n",
       "    <tr>\n",
       "      <th>3</th>\n",
       "      <td>3</td>\n",
       "      <td>45</td>\n",
       "      <td>p246581</td>\n",
       "      <td>f3cb9bffbba169bef1a77b243e620b60</td>\n",
       "      <td>mrs</td>\n",
       "      <td>ky</td>\n",
       "      <td>2016-10-06 21:16:17</td>\n",
       "      <td>grades_prek_2</td>\n",
       "      <td>literacy_language_math_science</td>\n",
       "      <td>literacy_mathematics</td>\n",
       "      <td>techie kindergarteners</td>\n",
       "      <td>I work at a unique school filled with both ESL...</td>\n",
       "      <td>My students live in high poverty conditions wi...</td>\n",
       "      <td>NaN</td>\n",
       "      <td>NaN</td>\n",
       "      <td>My students need to engage in Reading and Math...</td>\n",
       "      <td>4</td>\n",
       "      <td>1</td>\n",
       "      <td>work unique school filled esl english second l...</td>\n",
       "      <td>232.90</td>\n",
       "      <td>4</td>\n",
       "      <td>-0.177469</td>\n",
       "      <td>0.023228</td>\n",
       "      <td>0</td>\n",
       "    </tr>\n",
       "    <tr>\n",
       "      <th>4</th>\n",
       "      <td>4</td>\n",
       "      <td>172407</td>\n",
       "      <td>p104768</td>\n",
       "      <td>be1f7507a41f8479dc06f047086a39ec</td>\n",
       "      <td>mrs</td>\n",
       "      <td>tx</td>\n",
       "      <td>2016-07-11 01:10:09</td>\n",
       "      <td>grades_prek_2</td>\n",
       "      <td>math_science</td>\n",
       "      <td>mathematics</td>\n",
       "      <td>interactive math tools</td>\n",
       "      <td>Our second grade classroom next year will be m...</td>\n",
       "      <td>For many students, math is a subject that does...</td>\n",
       "      <td>NaN</td>\n",
       "      <td>NaN</td>\n",
       "      <td>My students need hands on practice in mathemat...</td>\n",
       "      <td>1</td>\n",
       "      <td>1</td>\n",
       "      <td>second grade classroom next year made around 2...</td>\n",
       "      <td>67.98</td>\n",
       "      <td>4</td>\n",
       "      <td>-0.626236</td>\n",
       "      <td>0.006733</td>\n",
       "      <td>0</td>\n",
       "    </tr>\n",
       "  </tbody>\n",
       "</table>\n",
       "</div>"
      ],
      "text/plain": [
       "   Unnamed: 0  Unnamed: 0.1  ... nrm_price project_summary_numerical\n",
       "0           0        160221  ...  0.015397                         0\n",
       "1           1        140945  ...  0.029839                         0\n",
       "2           2         21895  ...  0.051628                         0\n",
       "3           3            45  ...  0.023228                         0\n",
       "4           4        172407  ...  0.006733                         0\n",
       "\n",
       "[5 rows x 24 columns]"
      ]
     },
     "execution_count": 3,
     "metadata": {
      "tags": []
     },
     "output_type": "execute_result"
    }
   ],
   "source": [
    "# reading datasets\n",
    "project_data = pd.read_csv(\"drive/My Drive/ML_data/preprocessed_data.csv\")\n",
    "project_data.head()"
   ]
  },
  {
   "cell_type": "code",
   "execution_count": 4,
   "metadata": {
    "colab": {
     "base_uri": "https://localhost:8080/",
     "height": 68
    },
    "colab_type": "code",
    "id": "00dWARk4KDxE",
    "outputId": "059601b9-6310-42ee-9dcd-92bf538ac951"
   },
   "outputs": [
    {
     "data": {
      "text/plain": [
       "1    92706\n",
       "0    16542\n",
       "Name: project_is_approved, dtype: int64"
      ]
     },
     "execution_count": 4,
     "metadata": {
      "tags": []
     },
     "output_type": "execute_result"
    }
   ],
   "source": [
    "project_data[\"project_is_approved\"].value_counts()"
   ]
  },
  {
   "cell_type": "code",
   "execution_count": 5,
   "metadata": {
    "colab": {
     "base_uri": "https://localhost:8080/",
     "height": 170
    },
    "colab_type": "code",
    "id": "_-qKuKVQKDxI",
    "outputId": "21ec4b7b-4930-4131-e868-6a38d2428f3f"
   },
   "outputs": [
    {
     "data": {
      "text/plain": [
       "Index(['Unnamed: 0', 'Unnamed: 0.1', 'id', 'teacher_id', 'teacher_prefix',\n",
       "       'school_state', 'project_submitted_datetime', 'project_grade_category',\n",
       "       'project_subject_categories', 'project_subject_subcategories',\n",
       "       'project_title', 'project_essay_1', 'project_essay_2',\n",
       "       'project_essay_3', 'project_essay_4', 'project_resource_summary',\n",
       "       'teacher_number_of_previously_posted_projects', 'project_is_approved',\n",
       "       'essay', 'price', 'quantity', 'std_price', 'nrm_price',\n",
       "       'project_summary_numerical'],\n",
       "      dtype='object')"
      ]
     },
     "execution_count": 5,
     "metadata": {
      "tags": []
     },
     "output_type": "execute_result"
    }
   ],
   "source": [
    "project_data.columns"
   ]
  },
  {
   "cell_type": "code",
   "execution_count": 6,
   "metadata": {
    "colab": {
     "base_uri": "https://localhost:8080/",
     "height": 442
    },
    "colab_type": "code",
    "id": "2TTDcz7XKDxM",
    "outputId": "5ce32ead-c9ff-4b72-82c1-63a1cba5a5ed"
   },
   "outputs": [
    {
     "data": {
      "text/plain": [
       "Unnamed: 0                                           0\n",
       "Unnamed: 0.1                                         0\n",
       "id                                                   0\n",
       "teacher_id                                           0\n",
       "teacher_prefix                                       0\n",
       "school_state                                         0\n",
       "project_submitted_datetime                           0\n",
       "project_grade_category                               0\n",
       "project_subject_categories                           0\n",
       "project_subject_subcategories                        0\n",
       "project_title                                       43\n",
       "project_essay_1                                      0\n",
       "project_essay_2                                      0\n",
       "project_essay_3                                 105490\n",
       "project_essay_4                                 105490\n",
       "project_resource_summary                             0\n",
       "teacher_number_of_previously_posted_projects         0\n",
       "project_is_approved                                  0\n",
       "essay                                                0\n",
       "price                                                0\n",
       "quantity                                             0\n",
       "std_price                                            0\n",
       "nrm_price                                            0\n",
       "project_summary_numerical                            0\n",
       "dtype: int64"
      ]
     },
     "execution_count": 6,
     "metadata": {
      "tags": []
     },
     "output_type": "execute_result"
    }
   ],
   "source": [
    "# checking for null values\n",
    "project_data.isnull().sum()"
   ]
  },
  {
   "cell_type": "code",
   "execution_count": 0,
   "metadata": {
    "colab": {},
    "colab_type": "code",
    "id": "F4kx5mFNKDxQ"
   },
   "outputs": [],
   "source": [
    "# filling the null values with ''\n",
    "project_data['project_title'] = project_data['project_title'].fillna('')"
   ]
  },
  {
   "cell_type": "code",
   "execution_count": 0,
   "metadata": {
    "colab": {},
    "colab_type": "code",
    "id": "bafvWQJKKDxU"
   },
   "outputs": [],
   "source": [
    "# combining essay and project_title columns\n",
    "project_data['cleaned_text'] = project_data['essay'] + project_data['project_title']"
   ]
  },
  {
   "cell_type": "code",
   "execution_count": 0,
   "metadata": {
    "colab": {},
    "colab_type": "code",
    "id": "Z4JpyAqKKDxY"
   },
   "outputs": [],
   "source": [
    "# dropping unecessary columns\n",
    "project_data = project_data.drop(['Unnamed: 0', 'Unnamed: 0.1', 'id', 'teacher_id', 'project_submitted_datetime', \n",
    "                                  'project_resource_summary', 'std_price', 'nrm_price', 'project_essay_1', 'project_essay_2', \n",
    "                                  'project_essay_3', 'project_essay_4', 'essay', 'project_title'], axis=1)"
   ]
  },
  {
   "cell_type": "code",
   "execution_count": 10,
   "metadata": {
    "colab": {
     "base_uri": "https://localhost:8080/",
     "height": 102
    },
    "colab_type": "code",
    "id": "iOp546LtKDxb",
    "outputId": "fd3a8c6e-7346-4b3d-f347-1a9d56304282"
   },
   "outputs": [
    {
     "data": {
      "text/plain": [
       "Index(['teacher_prefix', 'school_state', 'project_grade_category',\n",
       "       'project_subject_categories', 'project_subject_subcategories',\n",
       "       'teacher_number_of_previously_posted_projects', 'project_is_approved',\n",
       "       'price', 'quantity', 'project_summary_numerical', 'cleaned_text'],\n",
       "      dtype='object')"
      ]
     },
     "execution_count": 10,
     "metadata": {
      "tags": []
     },
     "output_type": "execute_result"
    }
   ],
   "source": [
    "# columns left after dropping unecessary columns\n",
    "project_data.columns"
   ]
  },
  {
   "cell_type": "code",
   "execution_count": 0,
   "metadata": {
    "colab": {},
    "colab_type": "code",
    "id": "cPq70Mi1KDxe"
   },
   "outputs": [],
   "source": [
    "target = project_data['project_is_approved']\n",
    "features = project_data.drop(['project_is_approved'], axis=1)"
   ]
  },
  {
   "cell_type": "code",
   "execution_count": 0,
   "metadata": {
    "colab": {},
    "colab_type": "code",
    "id": "BJoZGK3uKDxh"
   },
   "outputs": [],
   "source": [
    "# splitting the dataset into train(75%) and test(25%) set\n",
    "X_train, X_test, y_train, y_test = train_test_split(features, target, stratify=target, test_size=0.25, random_state=123)"
   ]
  },
  {
   "cell_type": "code",
   "execution_count": 13,
   "metadata": {
    "colab": {
     "base_uri": "https://localhost:8080/",
     "height": 51
    },
    "colab_type": "code",
    "id": "K4S0m8xVKDxk",
    "outputId": "993b5622-e2cc-4246-c898-b7701533cf5a"
   },
   "outputs": [
    {
     "name": "stdout",
     "output_type": "stream",
     "text": [
      "Shape of Train data (81936, 10)\n",
      "Shape of Test data (27312, 10)\n"
     ]
    }
   ],
   "source": [
    "print('Shape of Train data', X_train.shape)\n",
    "print('Shape of Test data', X_test.shape)"
   ]
  },
  {
   "cell_type": "markdown",
   "metadata": {
    "colab_type": "text",
    "id": "H1Dpps07KDxo"
   },
   "source": [
    "**Filtering Text Data (essays & project_title) based on idf values**"
   ]
  },
  {
   "cell_type": "code",
   "execution_count": 0,
   "metadata": {
    "colab": {},
    "colab_type": "code",
    "id": "Tg-o2STwKDxp"
   },
   "outputs": [],
   "source": [
    "tfidf = TfidfVectorizer()\n",
    "combine_tfidf = tfidf.fit_transform(X_train['cleaned_text'])\n",
    "\n",
    "# converting to dictionary\n",
    "combine_dict = dict(zip(tfidf.get_feature_names(),list(tfidf.idf_)))"
   ]
  },
  {
   "cell_type": "code",
   "execution_count": 0,
   "metadata": {
    "colab": {},
    "colab_type": "code",
    "id": "HCq8P4hxKDxt"
   },
   "outputs": [],
   "source": [
    "tfidf_df = pd.DataFrame(list(combine_dict.items()), columns=['Words', 'IDF Values'])\n",
    "tfidf_df = tfidf_df.sort_values(by ='IDF Values' )"
   ]
  },
  {
   "cell_type": "code",
   "execution_count": 16,
   "metadata": {
    "colab": {
     "base_uri": "https://localhost:8080/",
     "height": 51
    },
    "colab_type": "code",
    "id": "jLscCPv5KDxw",
    "outputId": "2888458d-7265-411a-ed48-6faf2cc31a02"
   },
   "outputs": [
    {
     "name": "stdout",
     "output_type": "stream",
     "text": [
      "1.0074234116042697\n",
      "11.62055875771544\n"
     ]
    }
   ],
   "source": [
    "# finding the min & max idf values\n",
    "print(tfidf_df['IDF Values'].min())\n",
    "print(tfidf_df['IDF Values'].max())"
   ]
  },
  {
   "cell_type": "code",
   "execution_count": 17,
   "metadata": {
    "colab": {
     "base_uri": "https://localhost:8080/",
     "height": 34
    },
    "colab_type": "code",
    "id": "_Dn4vnIKKDxz",
    "outputId": "9690bfde-84c0-4e78-adb3-7b02bb596add"
   },
   "outputs": [
    {
     "data": {
      "text/plain": [
       "(27769, 2)"
      ]
     },
     "execution_count": 17,
     "metadata": {
      "tags": []
     },
     "output_type": "execute_result"
    }
   ],
   "source": [
    "# based on the idf values we prepare the corpus, thereby leaving the words with lower idf value than 2 and greater than 11\n",
    "corpus = tfidf_df[(tfidf_df['IDF Values'] >= 2) & (tfidf_df['IDF Values'] <=11 )]\n",
    "corpus.shape"
   ]
  },
  {
   "cell_type": "code",
   "execution_count": 18,
   "metadata": {
    "colab": {
     "base_uri": "https://localhost:8080/",
     "height": 187
    },
    "colab_type": "code",
    "id": "d8FxQGpxKDx3",
    "outputId": "5d58dff6-4bb7-4504-c151-7c00ac374979"
   },
   "outputs": [
    {
     "data": {
      "text/plain": [
       "['new',\n",
       " 'year',\n",
       " 'one',\n",
       " 'would',\n",
       " 'time',\n",
       " 'student',\n",
       " 'want',\n",
       " 'skills',\n",
       " 'grade',\n",
       " 'reading']"
      ]
     },
     "execution_count": 18,
     "metadata": {
      "tags": []
     },
     "output_type": "execute_result"
    }
   ],
   "source": [
    "vocab = corpus[\"Words\"].tolist()\n",
    "vocab[:10]"
   ]
  },
  {
   "cell_type": "markdown",
   "metadata": {
    "colab_type": "text",
    "id": "9IU5gLfwKDx6"
   },
   "source": [
    "**Tokenizing the Text**"
   ]
  },
  {
   "cell_type": "code",
   "execution_count": 0,
   "metadata": {
    "colab": {},
    "colab_type": "code",
    "id": "lhKtUqByKDx7"
   },
   "outputs": [],
   "source": [
    "# convert the sentences (strings) into integers\n",
    "tokenizer = Tokenizer()\n",
    "tokenizer.fit_on_texts(vocab)\n",
    "sequences_train = tokenizer.texts_to_sequences(X_train['cleaned_text'])\n",
    "sequences_test = tokenizer.texts_to_sequences(X_test['cleaned_text'])"
   ]
  },
  {
   "cell_type": "code",
   "execution_count": 20,
   "metadata": {
    "colab": {
     "base_uri": "https://localhost:8080/",
     "height": 34
    },
    "colab_type": "code",
    "id": "VM-CvDYeKDx_",
    "outputId": "13c23d8e-0e9b-4f6a-9eda-042e678d341c"
   },
   "outputs": [
    {
     "name": "stdout",
     "output_type": "stream",
     "text": [
      "Found 27769 unique tokens.\n"
     ]
    }
   ],
   "source": [
    "# get word -> integer mapping\n",
    "word2idx = tokenizer.word_index\n",
    "print('Found %s unique tokens.' % len(word2idx))"
   ]
  },
  {
   "cell_type": "markdown",
   "metadata": {
    "colab_type": "text",
    "id": "DVFq0ApLKDyD"
   },
   "source": [
    "**Padding the sequences**"
   ]
  },
  {
   "cell_type": "code",
   "execution_count": 0,
   "metadata": {
    "colab": {},
    "colab_type": "code",
    "id": "-Bvqs5dIKDyF"
   },
   "outputs": [],
   "source": [
    "EMBEDDING_DIM = 300\n",
    "MAX_SEQUENCE_LENGTH = 100"
   ]
  },
  {
   "cell_type": "code",
   "execution_count": 22,
   "metadata": {
    "colab": {
     "base_uri": "https://localhost:8080/",
     "height": 34
    },
    "colab_type": "code",
    "id": "MDkMQch6KDyK",
    "outputId": "57f91f7f-8a56-4509-d44c-e07bbdd4ec5f"
   },
   "outputs": [
    {
     "name": "stdout",
     "output_type": "stream",
     "text": [
      "Shape of data tensor: (81936, 100)\n"
     ]
    }
   ],
   "source": [
    "encoded_train = pad_sequences(sequences_train, maxlen=MAX_SEQUENCE_LENGTH)\n",
    "print('Shape of data tensor:', encoded_train.shape)"
   ]
  },
  {
   "cell_type": "code",
   "execution_count": 23,
   "metadata": {
    "colab": {
     "base_uri": "https://localhost:8080/",
     "height": 34
    },
    "colab_type": "code",
    "id": "Ad64glMpKDyV",
    "outputId": "214741ce-2234-4da7-ccea-70b185ba4f2a"
   },
   "outputs": [
    {
     "name": "stdout",
     "output_type": "stream",
     "text": [
      "Shape of data tensor: (27312, 100)\n"
     ]
    }
   ],
   "source": [
    "encoded_test = pad_sequences(sequences_test, maxlen=MAX_SEQUENCE_LENGTH)\n",
    "print('Shape of data tensor:', encoded_test.shape)"
   ]
  },
  {
   "cell_type": "markdown",
   "metadata": {
    "colab_type": "text",
    "id": "ff3HyszGKDyZ"
   },
   "source": [
    "**Getting the vector representation using Glove vectors**"
   ]
  },
  {
   "cell_type": "code",
   "execution_count": 0,
   "metadata": {
    "colab": {},
    "colab_type": "code",
    "id": "xBh6xqipKDya"
   },
   "outputs": [],
   "source": [
    "# Loading Embedding File\n",
    "pickle_in = open('drive/My Drive/ML_data/glove_vectors','rb')\n",
    "glove_words = pickle.load(pickle_in)"
   ]
  },
  {
   "cell_type": "code",
   "execution_count": 0,
   "metadata": {
    "colab": {},
    "colab_type": "code",
    "id": "rnBVruIzKDye"
   },
   "outputs": [],
   "source": [
    "num_words = len(word2idx) + 1\n",
    "embedding_matrix = np.zeros((num_words, 300))\n",
    "for word, i in word2idx.items():\n",
    "    if i < len(vocab):\n",
    "        embedding_vector = glove_words.get(word)\n",
    "        if embedding_vector is not None:\n",
    "          # words not found in embedding index will be all zeros.\n",
    "          embedding_matrix[i] = embedding_vector"
   ]
  },
  {
   "cell_type": "code",
   "execution_count": 26,
   "metadata": {
    "colab": {
     "base_uri": "https://localhost:8080/",
     "height": 68
    },
    "colab_type": "code",
    "id": "bUAS4yZKKDyj",
    "outputId": "a006afd4-cf0e-4367-c5f8-f6e9570a699a"
   },
   "outputs": [
    {
     "name": "stdout",
     "output_type": "stream",
     "text": [
      "27770\n",
      "--------------\n",
      "(27770, 300)\n"
     ]
    }
   ],
   "source": [
    "print(num_words)\n",
    "print('--------------')\n",
    "print(embedding_matrix.shape)"
   ]
  },
  {
   "cell_type": "markdown",
   "metadata": {
    "colab_type": "text",
    "id": "29wRwcH0KDyl"
   },
   "source": [
    "**Vectorizing all the categorical features using CountVectorizer**"
   ]
  },
  {
   "cell_type": "code",
   "execution_count": 0,
   "metadata": {
    "colab": {},
    "colab_type": "code",
    "id": "CGA21NoIKDym"
   },
   "outputs": [],
   "source": [
    "vect = CountVectorizer(binary=True)\n",
    "\n",
    "train_prefix = vect.fit_transform(X_train[\"teacher_prefix\"])\n",
    "test_prefix = vect.transform(X_test[\"teacher_prefix\"])"
   ]
  },
  {
   "cell_type": "code",
   "execution_count": 0,
   "metadata": {
    "colab": {},
    "colab_type": "code",
    "id": "UyQ9Q3EwKDyp"
   },
   "outputs": [],
   "source": [
    "vect = CountVectorizer(binary=True)\n",
    "\n",
    "train_state = vect.fit_transform(X_train[\"school_state\"])\n",
    "test_state = vect.transform(X_test[\"school_state\"])"
   ]
  },
  {
   "cell_type": "code",
   "execution_count": 0,
   "metadata": {
    "colab": {},
    "colab_type": "code",
    "id": "BM8kMQslKDyr"
   },
   "outputs": [],
   "source": [
    "vect = CountVectorizer(binary=True)\n",
    "\n",
    "train_grade = vect.fit_transform(X_train[\"project_grade_category\"])\n",
    "test_grade = vect.transform(X_test[\"project_grade_category\"])"
   ]
  },
  {
   "cell_type": "code",
   "execution_count": 0,
   "metadata": {
    "colab": {},
    "colab_type": "code",
    "id": "-UeKB86wKDyu"
   },
   "outputs": [],
   "source": [
    "vect = CountVectorizer(binary=True)\n",
    "\n",
    "train_subcat = vect.fit_transform(X_train[\"project_subject_categories\"])\n",
    "test_subcat = vect.transform(X_test[\"project_subject_categories\"])"
   ]
  },
  {
   "cell_type": "code",
   "execution_count": 0,
   "metadata": {
    "colab": {},
    "colab_type": "code",
    "id": "lG8dcbIgKDyx"
   },
   "outputs": [],
   "source": [
    "vect = CountVectorizer(binary=True)\n",
    "\n",
    "train_subcat_1 = vect.fit_transform(X_train[\"project_subject_subcategories\"])\n",
    "test_subcat_1 = vect.transform(X_test[\"project_subject_subcategories\"])"
   ]
  },
  {
   "cell_type": "markdown",
   "metadata": {
    "colab_type": "text",
    "id": "UM_1r2mEKDy0"
   },
   "source": [
    "**Reshaping & Standardizing numerical features**"
   ]
  },
  {
   "cell_type": "code",
   "execution_count": 0,
   "metadata": {
    "colab": {},
    "colab_type": "code",
    "id": "iP0GNukIKDy1"
   },
   "outputs": [],
   "source": [
    "num_train_1=X_train['project_summary_numerical'].values.reshape(-1, 1)\n",
    "num_train_2=X_train['price'].values.reshape(-1, 1)\n",
    "num_train_3=X_train['quantity'].values.reshape(-1, 1)\n",
    "num_train_4=X_train['teacher_number_of_previously_posted_projects'].values.reshape(-1, 1)\n",
    "\n",
    "num_test_1=X_test['project_summary_numerical'].values.reshape(-1, 1)\n",
    "num_test_2=X_test['price'].values.reshape(-1, 1)\n",
    "num_test_3=X_test['quantity'].values.reshape(-1, 1)\n",
    "num_test_4=X_test['teacher_number_of_previously_posted_projects'].values.reshape(-1, 1)"
   ]
  },
  {
   "cell_type": "code",
   "execution_count": 0,
   "metadata": {
    "colab": {},
    "colab_type": "code",
    "id": "GfqfkTxuKDy3"
   },
   "outputs": [],
   "source": [
    "# concatenating train numerical features\n",
    "num_train=np.concatenate((num_train_1,num_train_2,num_train_3,num_train_4),axis=1)\n",
    "\n",
    "# concatenating test numerical features\n",
    "num_test=np.concatenate((num_test_1,num_test_2,num_test_3,num_test_4),axis=1)\n",
    "\n",
    "# Standardizing the features\n",
    "norm=StandardScaler()\n",
    "norm_train=norm.fit_transform(num_train)\n",
    "norm_test=norm.transform(num_test)"
   ]
  },
  {
   "cell_type": "code",
   "execution_count": 0,
   "metadata": {
    "colab": {},
    "colab_type": "code",
    "id": "CgL0UrNxKDy8"
   },
   "outputs": [],
   "source": [
    "# concatencating categorical features\n",
    "cat_train = hstack([train_prefix,train_state,train_grade,train_subcat,train_subcat_1]).todense()\n",
    "cat_test = hstack([test_prefix,test_state,test_grade,test_subcat,test_subcat_1]).todense()"
   ]
  },
  {
   "cell_type": "code",
   "execution_count": 0,
   "metadata": {
    "colab": {},
    "colab_type": "code",
    "id": "Pw_PJYs7KDy_"
   },
   "outputs": [],
   "source": [
    "# concatenating the numerical & categorical features\n",
    "all_train = np.hstack((cat_train,norm_train))\n",
    "all_test = np.hstack((cat_test,norm_test))"
   ]
  },
  {
   "cell_type": "code",
   "execution_count": 0,
   "metadata": {
    "colab": {},
    "colab_type": "code",
    "id": "h7M7Bjd9KDzC"
   },
   "outputs": [],
   "source": [
    "final_train = np.expand_dims(all_train,2)\n",
    "final_test = np.expand_dims(all_test,2)"
   ]
  },
  {
   "cell_type": "code",
   "execution_count": 37,
   "metadata": {
    "colab": {
     "base_uri": "https://localhost:8080/",
     "height": 68
    },
    "colab_type": "code",
    "id": "G2hGgh6fKDzG",
    "outputId": "13493a20-21d6-40b7-cd80-790533e66dc2"
   },
   "outputs": [
    {
     "name": "stdout",
     "output_type": "stream",
     "text": [
      "(81936, 512, 1)\n",
      "----------------\n",
      "(27312, 512, 1)\n"
     ]
    }
   ],
   "source": [
    "print(final_train.shape)\n",
    "print('----------------')\n",
    "print(final_test.shape)"
   ]
  },
  {
   "cell_type": "markdown",
   "metadata": {
    "colab_type": "text",
    "id": "gonxpntlKDzJ"
   },
   "source": [
    "## Defining model architecture"
   ]
  },
  {
   "cell_type": "markdown",
   "metadata": {},
   "source": [
    "<img src=\"./model_3.jpeg\">"
   ]
  },
  {
   "cell_type": "code",
   "execution_count": 38,
   "metadata": {
    "colab": {
     "base_uri": "https://localhost:8080/",
     "height": 258
    },
    "colab_type": "code",
    "id": "mTXWPwGFKDzK",
    "outputId": "be84075f-b7f9-4ef3-fc1c-465de0873092"
   },
   "outputs": [
    {
     "name": "stdout",
     "output_type": "stream",
     "text": [
      "WARNING:tensorflow:From /usr/local/lib/python3.6/dist-packages/keras/backend/tensorflow_backend.py:66: The name tf.get_default_graph is deprecated. Please use tf.compat.v1.get_default_graph instead.\n",
      "\n",
      "WARNING:tensorflow:From /usr/local/lib/python3.6/dist-packages/keras/backend/tensorflow_backend.py:541: The name tf.placeholder is deprecated. Please use tf.compat.v1.placeholder instead.\n",
      "\n",
      "WARNING:tensorflow:From /usr/local/lib/python3.6/dist-packages/keras/backend/tensorflow_backend.py:4432: The name tf.random_uniform is deprecated. Please use tf.random.uniform instead.\n",
      "\n",
      "WARNING:tensorflow:From /usr/local/lib/python3.6/dist-packages/keras/backend/tensorflow_backend.py:190: The name tf.get_default_session is deprecated. Please use tf.compat.v1.get_default_session instead.\n",
      "\n",
      "WARNING:tensorflow:From /usr/local/lib/python3.6/dist-packages/keras/backend/tensorflow_backend.py:197: The name tf.ConfigProto is deprecated. Please use tf.compat.v1.ConfigProto instead.\n",
      "\n",
      "WARNING:tensorflow:From /usr/local/lib/python3.6/dist-packages/keras/backend/tensorflow_backend.py:3733: calling dropout (from tensorflow.python.ops.nn_ops) with keep_prob is deprecated and will be removed in a future version.\n",
      "Instructions for updating:\n",
      "Please use `rate` instead of `keep_prob`. Rate should be set to `rate = 1 - keep_prob`.\n"
     ]
    }
   ],
   "source": [
    "# load pre-trained word embeddings into an Embedding layer\n",
    "# note that we set trainable = False so as to keep the embeddings of fixed sized\n",
    "embedding_layer = Embedding(\n",
    "  num_words,\n",
    "  300,\n",
    "  weights=[embedding_matrix],\n",
    "  input_length=MAX_SEQUENCE_LENGTH,\n",
    "  trainable=False\n",
    ")\n",
    "input_text = Input(shape=(MAX_SEQUENCE_LENGTH,), name='input_text')\n",
    "x = embedding_layer(input_text)\n",
    "x = LSTM(256, dropout=0.5, kernel_regularizer=regularizers.l2(0.001), return_sequences=True)(x)\n",
    "flatten_1 = Flatten()(x)"
   ]
  },
  {
   "cell_type": "code",
   "execution_count": 0,
   "metadata": {
    "colab": {},
    "colab_type": "code",
    "id": "53-r72H7KDzN"
   },
   "outputs": [],
   "source": [
    "inp_conv =  Input(shape=(512, 1), name='features_all')\n",
    "x1 = Conv1D(filters=128, kernel_size=3, activation='relu',kernel_initializer=\"he_normal\")(inp_conv)\n",
    "x2 = Conv1D(filters=128, kernel_size=3, activation='relu',kernel_initializer=\"he_normal\")(x1)\n",
    "flatten_2 = Flatten()(x2)"
   ]
  },
  {
   "cell_type": "code",
   "execution_count": 0,
   "metadata": {
    "colab": {},
    "colab_type": "code",
    "id": "919ZKy09KDzQ"
   },
   "outputs": [],
   "source": [
    "x_concatenate = concatenate([flatten_1, flatten_2])\n",
    "\n",
    "x = Dense(128,activation=\"relu\",kernel_initializer=\"he_normal\",kernel_regularizer=regularizers.l2(0.001))(x_concatenate)\n",
    "\n",
    "x = Dropout(0.5)(x)\n",
    "\n",
    "x = Dense(64,activation=\"relu\",kernel_initializer=\"he_normal\",kernel_regularizer=regularizers.l2(0.001))(x)\n",
    "\n",
    "x = Dropout(0.3)(x)\n",
    "\n",
    "x = Dense(32,activation=\"relu\",kernel_initializer=\"he_normal\",kernel_regularizer=regularizers.l2(0.001))(x)\n",
    "\n",
    "output = Dense(2, activation='softmax', name='output')(x)\n",
    "model_3 = Model(inputs=[input_text,inp_conv],outputs=[output])"
   ]
  },
  {
   "cell_type": "code",
   "execution_count": 0,
   "metadata": {
    "colab": {},
    "colab_type": "code",
    "id": "mhjkvdQVKDzS"
   },
   "outputs": [],
   "source": [
    "train_data_3 = [encoded_train, final_train]\n",
    "test_data_3 = [encoded_test, final_test]\n",
    "\n",
    "Y_train = np_utils.to_categorical(y_train, 2) \n",
    "Y_test = np_utils.to_categorical(y_test, 2)"
   ]
  },
  {
   "cell_type": "code",
   "execution_count": 0,
   "metadata": {
    "colab": {},
    "colab_type": "code",
    "id": "jq5aAdSPKDzV"
   },
   "outputs": [],
   "source": [
    "checkpoint_3 = ModelCheckpoint(\"model_3.h5\",\n",
    "                             monitor=\"val_auroc\",\n",
    "                             mode=\"max\",\n",
    "                             save_best_only = True,\n",
    "                             verbose=1)\n",
    "\n",
    "tensorboard_3 = TensorBoard(log_dir='graph_3', histogram_freq=0, batch_size=512, write_graph=True, write_grads=True, \n",
    "                            write_images=False, embeddings_freq=0, embeddings_layer_names=None, embeddings_metadata=None, \n",
    "                            embeddings_data=None, update_freq='epoch')\n",
    "\n",
    "callbacks_3 = [tensorboard_3,checkpoint_3]"
   ]
  },
  {
   "cell_type": "code",
   "execution_count": 0,
   "metadata": {
    "colab": {},
    "colab_type": "code",
    "id": "FVdLmJoYKDzY"
   },
   "outputs": [],
   "source": [
    "# Defining Custom ROC-AUC function\n",
    "from sklearn.metrics import roc_auc_score\n",
    "\n",
    "def auc1(y_true, y_pred):\n",
    "    if len(np.unique(y_true[:,1])) == 1:\n",
    "        return 0.5\n",
    "    else:\n",
    "        return roc_auc_score(y_true, y_pred)\n",
    "\n",
    "def auroc(y_true, y_pred):\n",
    "    return tf.py_func(auc1, (y_true, y_pred), tf.double)"
   ]
  },
  {
   "cell_type": "code",
   "execution_count": 0,
   "metadata": {
    "colab": {},
    "colab_type": "code",
    "id": "HAnUiPeMKDzf"
   },
   "outputs": [],
   "source": [
    "adam = Adam(lr=0.001, beta_1=0.9, beta_2=0.999, epsilon=None, decay=0.0, amsgrad=False)"
   ]
  },
  {
   "cell_type": "code",
   "execution_count": 45,
   "metadata": {
    "colab": {
     "base_uri": "https://localhost:8080/",
     "height": 292
    },
    "colab_type": "code",
    "id": "-hXBDMp7KDzj",
    "outputId": "79420c79-3650-45e2-fe05-2f4ec8d2a21b"
   },
   "outputs": [
    {
     "name": "stdout",
     "output_type": "stream",
     "text": [
      "WARNING:tensorflow:From /usr/local/lib/python3.6/dist-packages/keras/optimizers.py:793: The name tf.train.Optimizer is deprecated. Please use tf.compat.v1.train.Optimizer instead.\n",
      "\n",
      "WARNING:tensorflow:From <ipython-input-43-a7e6cba44e56>:10: py_func (from tensorflow.python.ops.script_ops) is deprecated and will be removed in a future version.\n",
      "Instructions for updating:\n",
      "tf.py_func is deprecated in TF V2. Instead, there are two\n",
      "    options available in V2.\n",
      "    - tf.py_function takes a python function which manipulates tf eager\n",
      "    tensors instead of numpy arrays. It's easy to convert a tf eager tensor to\n",
      "    an ndarray (just call tensor.numpy()) but having access to eager tensors\n",
      "    means `tf.py_function`s can use accelerators such as GPUs as well as\n",
      "    being differentiable using a gradient tape.\n",
      "    - tf.numpy_function maintains the semantics of the deprecated tf.py_func\n",
      "    (it is not differentiable, and manipulates numpy arrays). It drops the\n",
      "    stateful argument making all functions stateful.\n",
      "    \n"
     ]
    }
   ],
   "source": [
    "model_3.compile(optimizer=adam, loss='categorical_crossentropy', metrics=[auroc])"
   ]
  },
  {
   "cell_type": "code",
   "execution_count": 46,
   "metadata": {
    "colab": {
     "base_uri": "https://localhost:8080/",
     "height": 1000
    },
    "colab_type": "code",
    "id": "xSnadzNVKDzm",
    "outputId": "67732112-be27-441d-d429-0923f4c52659",
    "scrolled": false
   },
   "outputs": [
    {
     "name": "stdout",
     "output_type": "stream",
     "text": [
      "WARNING:tensorflow:From /usr/local/lib/python3.6/dist-packages/tensorflow/python/ops/math_grad.py:1250: add_dispatch_support.<locals>.wrapper (from tensorflow.python.ops.array_ops) is deprecated and will be removed in a future version.\n",
      "Instructions for updating:\n",
      "Use tf.where in 2.0, which has the same broadcast rule as np.where\n",
      "Train on 81936 samples, validate on 27312 samples\n",
      "WARNING:tensorflow:From /usr/local/lib/python3.6/dist-packages/keras/callbacks.py:1122: The name tf.summary.merge_all is deprecated. Please use tf.compat.v1.summary.merge_all instead.\n",
      "\n",
      "WARNING:tensorflow:From /usr/local/lib/python3.6/dist-packages/keras/callbacks.py:1125: The name tf.summary.FileWriter is deprecated. Please use tf.compat.v1.summary.FileWriter instead.\n",
      "\n",
      "Epoch 1/30\n",
      "81936/81936 [==============================] - 42s 509us/step - loss: 0.8055 - auroc: 0.6348 - val_loss: 0.5749 - val_auroc: 0.7258\n",
      "\n",
      "Epoch 00001: val_auroc improved from -inf to 0.72584, saving model to model_3.h5\n",
      "Epoch 2/30\n",
      "81936/81936 [==============================] - 37s 452us/step - loss: 0.5246 - auroc: 0.7037 - val_loss: 0.4843 - val_auroc: 0.7395\n",
      "\n",
      "Epoch 00002: val_auroc improved from 0.72584 to 0.73948, saving model to model_3.h5\n",
      "Epoch 3/30\n",
      "81936/81936 [==============================] - 37s 450us/step - loss: 0.4700 - auroc: 0.7211 - val_loss: 0.4669 - val_auroc: 0.7468\n",
      "\n",
      "Epoch 00003: val_auroc improved from 0.73948 to 0.74680, saving model to model_3.h5\n",
      "Epoch 4/30\n",
      "81936/81936 [==============================] - 37s 452us/step - loss: 0.4422 - auroc: 0.7325 - val_loss: 0.4355 - val_auroc: 0.7492\n",
      "\n",
      "Epoch 00004: val_auroc improved from 0.74680 to 0.74922, saving model to model_3.h5\n",
      "Epoch 5/30\n",
      "81936/81936 [==============================] - 37s 454us/step - loss: 0.4253 - auroc: 0.7375 - val_loss: 0.4153 - val_auroc: 0.7548\n",
      "\n",
      "Epoch 00005: val_auroc improved from 0.74922 to 0.75478, saving model to model_3.h5\n",
      "Epoch 6/30\n",
      "81936/81936 [==============================] - 37s 449us/step - loss: 0.4130 - auroc: 0.7438 - val_loss: 0.4060 - val_auroc: 0.7491\n",
      "\n",
      "Epoch 00006: val_auroc did not improve from 0.75478\n",
      "Epoch 7/30\n",
      "81936/81936 [==============================] - 37s 448us/step - loss: 0.4064 - auroc: 0.7469 - val_loss: 0.4070 - val_auroc: 0.7570\n",
      "\n",
      "Epoch 00007: val_auroc improved from 0.75478 to 0.75699, saving model to model_3.h5\n",
      "Epoch 8/30\n",
      "81936/81936 [==============================] - 37s 448us/step - loss: 0.4011 - auroc: 0.7462 - val_loss: 0.4003 - val_auroc: 0.7579\n",
      "\n",
      "Epoch 00008: val_auroc improved from 0.75699 to 0.75786, saving model to model_3.h5\n",
      "Epoch 9/30\n",
      "81936/81936 [==============================] - 37s 449us/step - loss: 0.3987 - auroc: 0.7464 - val_loss: 0.3904 - val_auroc: 0.7592\n",
      "\n",
      "Epoch 00009: val_auroc improved from 0.75786 to 0.75916, saving model to model_3.h5\n",
      "Epoch 10/30\n",
      "81936/81936 [==============================] - 37s 447us/step - loss: 0.3925 - auroc: 0.7502 - val_loss: 0.3969 - val_auroc: 0.7578\n",
      "\n",
      "Epoch 00010: val_auroc did not improve from 0.75916\n",
      "Epoch 11/30\n",
      "81936/81936 [==============================] - 37s 448us/step - loss: 0.3926 - auroc: 0.7506 - val_loss: 0.3840 - val_auroc: 0.7618\n",
      "\n",
      "Epoch 00011: val_auroc improved from 0.75916 to 0.76183, saving model to model_3.h5\n",
      "Epoch 12/30\n",
      "81936/81936 [==============================] - 37s 449us/step - loss: 0.3898 - auroc: 0.7526 - val_loss: 0.3840 - val_auroc: 0.7636\n",
      "\n",
      "Epoch 00012: val_auroc improved from 0.76183 to 0.76364, saving model to model_3.h5\n",
      "Epoch 13/30\n",
      "81936/81936 [==============================] - 37s 451us/step - loss: 0.3891 - auroc: 0.7526 - val_loss: 0.3879 - val_auroc: 0.7611\n",
      "\n",
      "Epoch 00013: val_auroc did not improve from 0.76364\n",
      "Epoch 14/30\n",
      "81936/81936 [==============================] - 37s 447us/step - loss: 0.3886 - auroc: 0.7536 - val_loss: 0.3809 - val_auroc: 0.7650\n",
      "\n",
      "Epoch 00014: val_auroc improved from 0.76364 to 0.76502, saving model to model_3.h5\n",
      "Epoch 15/30\n",
      "81936/81936 [==============================] - 37s 450us/step - loss: 0.3859 - auroc: 0.7561 - val_loss: 0.3823 - val_auroc: 0.7652\n",
      "\n",
      "Epoch 00015: val_auroc improved from 0.76502 to 0.76517, saving model to model_3.h5\n",
      "Epoch 16/30\n",
      "81936/81936 [==============================] - 37s 448us/step - loss: 0.3869 - auroc: 0.7548 - val_loss: 0.3854 - val_auroc: 0.7649\n",
      "\n",
      "Epoch 00016: val_auroc did not improve from 0.76517\n",
      "Epoch 17/30\n",
      "81936/81936 [==============================] - 37s 447us/step - loss: 0.3859 - auroc: 0.7552 - val_loss: 0.3807 - val_auroc: 0.7649\n",
      "\n",
      "Epoch 00017: val_auroc did not improve from 0.76517\n",
      "Epoch 18/30\n",
      "81936/81936 [==============================] - 37s 449us/step - loss: 0.3839 - auroc: 0.7564 - val_loss: 0.3791 - val_auroc: 0.7640\n",
      "\n",
      "Epoch 00018: val_auroc did not improve from 0.76517\n",
      "Epoch 19/30\n",
      "81936/81936 [==============================] - 37s 447us/step - loss: 0.3836 - auroc: 0.7598 - val_loss: 0.3800 - val_auroc: 0.7656\n",
      "\n",
      "Epoch 00019: val_auroc improved from 0.76517 to 0.76562, saving model to model_3.h5\n",
      "Epoch 20/30\n",
      "81936/81936 [==============================] - 37s 447us/step - loss: 0.3831 - auroc: 0.7592 - val_loss: 0.3765 - val_auroc: 0.7685\n",
      "\n",
      "Epoch 00020: val_auroc improved from 0.76562 to 0.76851, saving model to model_3.h5\n",
      "Epoch 21/30\n",
      "81936/81936 [==============================] - 37s 448us/step - loss: 0.3809 - auroc: 0.7618 - val_loss: 0.3782 - val_auroc: 0.7654\n",
      "\n",
      "Epoch 00021: val_auroc did not improve from 0.76851\n",
      "Epoch 22/30\n",
      "81936/81936 [==============================] - 37s 455us/step - loss: 0.3843 - auroc: 0.7603 - val_loss: 0.3762 - val_auroc: 0.7682\n",
      "\n",
      "Epoch 00022: val_auroc did not improve from 0.76851\n",
      "Epoch 23/30\n",
      "81936/81936 [==============================] - 37s 449us/step - loss: 0.3814 - auroc: 0.7617 - val_loss: 0.3778 - val_auroc: 0.7669\n",
      "\n",
      "Epoch 00023: val_auroc did not improve from 0.76851\n",
      "Epoch 24/30\n",
      "81936/81936 [==============================] - 37s 450us/step - loss: 0.3817 - auroc: 0.7595 - val_loss: 0.3780 - val_auroc: 0.7694\n",
      "\n",
      "Epoch 00024: val_auroc improved from 0.76851 to 0.76945, saving model to model_3.h5\n",
      "Epoch 25/30\n",
      "81936/81936 [==============================] - 37s 448us/step - loss: 0.3820 - auroc: 0.7636 - val_loss: 0.3769 - val_auroc: 0.7692\n",
      "\n",
      "Epoch 00025: val_auroc did not improve from 0.76945\n",
      "Epoch 26/30\n",
      "81936/81936 [==============================] - 37s 449us/step - loss: 0.3813 - auroc: 0.7613 - val_loss: 0.3781 - val_auroc: 0.7688\n",
      "\n",
      "Epoch 00026: val_auroc did not improve from 0.76945\n",
      "Epoch 27/30\n",
      "81936/81936 [==============================] - 37s 448us/step - loss: 0.3775 - auroc: 0.7646 - val_loss: 0.3749 - val_auroc: 0.7705\n",
      "\n",
      "Epoch 00027: val_auroc improved from 0.76945 to 0.77051, saving model to model_3.h5\n",
      "Epoch 28/30\n",
      "81936/81936 [==============================] - 37s 449us/step - loss: 0.3786 - auroc: 0.7651 - val_loss: 0.3762 - val_auroc: 0.7686\n",
      "\n",
      "Epoch 00028: val_auroc did not improve from 0.77051\n",
      "Epoch 29/30\n",
      "81936/81936 [==============================] - 37s 452us/step - loss: 0.3798 - auroc: 0.7650 - val_loss: 0.3769 - val_auroc: 0.7682\n",
      "\n",
      "Epoch 00029: val_auroc did not improve from 0.77051\n",
      "Epoch 30/30\n",
      "81936/81936 [==============================] - 37s 455us/step - loss: 0.3784 - auroc: 0.7635 - val_loss: 0.3755 - val_auroc: 0.7704\n",
      "\n",
      "Epoch 00030: val_auroc did not improve from 0.77051\n"
     ]
    }
   ],
   "source": [
    "history_3 = model_3.fit(train_data_3, Y_train, batch_size=512,\n",
    "                        epochs=30, validation_data=(test_data_3,Y_test), callbacks=callbacks_3)"
   ]
  },
  {
   "cell_type": "code",
   "execution_count": 47,
   "metadata": {
    "colab": {
     "base_uri": "https://localhost:8080/",
     "height": 531
    },
    "colab_type": "code",
    "id": "l8ESOsFxKDzr",
    "outputId": "bccff49e-c2f1-4399-d335-1d89299b87b7"
   },
   "outputs": [
    {
     "data": {
      "image/png": "[encoded data removed]",
      "text/plain": [
       "<Figure size 432x288 with 1 Axes>"
      ]
     },
     "metadata": {
      "tags": []
     },
     "output_type": "display_data"
    },
    {
     "data": {
      "image/png": "[encoded data removed]",
      "text/plain": [
       "<Figure size 432x288 with 1 Axes>"
      ]
     },
     "metadata": {
      "tags": []
     },
     "output_type": "display_data"
    }
   ],
   "source": [
    "sns.set()\n",
    "plt.plot(history_3.history['auroc'], 'r')\n",
    "plt.plot(history_3.history['val_auroc'], 'b')\n",
    "plt.legend({'Train ROCAUC': 'r', 'Test ROCAUC':'b'})\n",
    "plt.show()\n",
    "\n",
    "\n",
    "plt.plot(history_3.history['loss'], 'r')\n",
    "plt.plot(history_3.history['val_loss'], 'b')\n",
    "plt.legend({'Train Loss': 'r', 'Test Loss':'b'})\n",
    "plt.show()"
   ]
  },
  {
   "cell_type": "markdown",
   "metadata": {},
   "source": [
    "### AUC Score for Model 3 - 0.77051"
   ]
  }
 ],
 "metadata": {
  "accelerator": "GPU",
  "colab": {
   "collapsed_sections": [],
   "name": "Donors Choose - Model 3.ipynb",
   "provenance": []
  },
  "kernelspec": {
   "display_name": "Python 3",
   "language": "python",
   "name": "python3"
  },
  "language_info": {
   "codemirror_mode": {
    "name": "ipython",
    "version": 3
   },
   "file_extension": ".py",
   "mimetype": "text/x-python",
   "name": "python",
   "nbconvert_exporter": "python",
   "pygments_lexer": "ipython3",
   "version": "3.7.1"
  }
 },
 "nbformat": 4,
 "nbformat_minor": 1
}
