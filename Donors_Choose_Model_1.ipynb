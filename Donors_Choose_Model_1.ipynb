{
 "cells": [
  {
   "cell_type": "markdown",
   "metadata": {
    "colab_type": "text",
    "id": "3uxEHt2lRx5B"
   },
   "source": [
    "# Donors Choose - Model 1"
   ]
  },
  {
   "cell_type": "code",
   "execution_count": 1,
   "metadata": {
    "colab": {
     "base_uri": "https://localhost:8080/",
     "height": 34
    },
    "colab_type": "code",
    "id": "YPJ_eE6rRx5D",
    "outputId": "2b50b28b-6ebd-4b39-e999-443c792268e1"
   },
   "outputs": [
    {
     "name": "stderr",
     "output_type": "stream",
     "text": [
      "Using TensorFlow backend.\n"
     ]
    }
   ],
   "source": [
    "# importing required libraries\n",
    "import warnings\n",
    "warnings.filterwarnings(\"ignore\")\n",
    "import pandas as pd\n",
    "import numpy as np\n",
    "from keras.layers import Input, Embedding, LSTM, Dropout, BatchNormalization, Dense, concatenate, Flatten, Conv1D, MaxPool1D, LeakyReLU, ELU, SpatialDropout1D, MaxPooling1D, GlobalAveragePooling1D, GlobalMaxPooling1D\n",
    "from keras.preprocessing.text import Tokenizer, one_hot\n",
    "from keras.preprocessing.sequence import pad_sequences\n",
    "from keras.models import Model, load_model\n",
    "from keras.utils import np_utils\n",
    "from keras import regularizers\n",
    "from keras.optimizers import *\n",
    "from keras.callbacks import ModelCheckpoint, EarlyStopping, TensorBoard, ReduceLROnPlateau\n",
    "\n",
    "from sklearn.feature_extraction.text import TfidfVectorizer, CountVectorizer\n",
    "from sklearn.metrics import roc_auc_score\n",
    "from sklearn.model_selection import train_test_split\n",
    "\n",
    "import tensorflow as tf\n",
    "import matplotlib.pyplot as plt\n",
    "%matplotlib inline\n",
    "import re\n",
    "from tqdm import tqdm\n",
    "from sklearn.preprocessing import LabelEncoder\n",
    "import seaborn as sns\n",
    "import pickle\n",
    "from sklearn.preprocessing import StandardScaler\n",
    "from scipy.sparse import hstack"
   ]
  },
  {
   "cell_type": "code",
   "execution_count": 2,
   "metadata": {
    "colab": {
     "base_uri": "https://localhost:8080/",
     "height": 122
    },
    "colab_type": "code",
    "id": "tUlLAHBeR4nV",
    "outputId": "25baf21a-6fe7-4b0f-b3e2-7e0b8f32d467"
   },
   "outputs": [
    {
     "name": "stdout",
     "output_type": "stream",
     "text": [
      "Go to this URL in a browser: https://accounts.google.com/o/oauth2/auth?client_id=947318989803-6bn6qk8qdgf4n4g3pfee6491hc0brc4i.apps.googleusercontent.com&redirect_uri=urn%3Aietf%3Awg%3Aoauth%3A2.0%3Aoob&scope=email%20https%3A%2F%2Fwww.googleapis.com%2Fauth%2Fdocs.test%20https%3A%2F%2Fwww.googleapis.com%2Fauth%2Fdrive%20https%3A%2F%2Fwww.googleapis.com%2Fauth%2Fdrive.photos.readonly%20https%3A%2F%2Fwww.googleapis.com%2Fauth%2Fpeopleapi.readonly&response_type=code\n",
      "\n",
      "Enter your authorization code:\n",
      "··········\n",
      "Mounted at /content/drive\n"
     ]
    }
   ],
   "source": [
    "from google.colab import drive\n",
    "drive.mount('/content/drive')"
   ]
  },
  {
   "cell_type": "code",
   "execution_count": 3,
   "metadata": {
    "colab": {
     "base_uri": "https://localhost:8080/",
     "height": 683
    },
    "colab_type": "code",
    "id": "Bjnwb2kDRx5I",
    "outputId": "75103ebb-a48a-496b-ac94-74ba8845b339"
   },
   "outputs": [
    {
     "data": {
      "text/html": [
       "<div>\n",
       "<style scoped>\n",
       "    .dataframe tbody tr th:only-of-type {\n",
       "        vertical-align: middle;\n",
       "    }\n",
       "\n",
       "    .dataframe tbody tr th {\n",
       "        vertical-align: top;\n",
       "    }\n",
       "\n",
       "    .dataframe thead th {\n",
       "        text-align: right;\n",
       "    }\n",
       "</style>\n",
       "<table border=\"1\" class=\"dataframe\">\n",
       "  <thead>\n",
       "    <tr style=\"text-align: right;\">\n",
       "      <th></th>\n",
       "      <th>Unnamed: 0</th>\n",
       "      <th>Unnamed: 0.1</th>\n",
       "      <th>id</th>\n",
       "      <th>teacher_id</th>\n",
       "      <th>teacher_prefix</th>\n",
       "      <th>school_state</th>\n",
       "      <th>project_submitted_datetime</th>\n",
       "      <th>project_grade_category</th>\n",
       "      <th>project_subject_categories</th>\n",
       "      <th>project_subject_subcategories</th>\n",
       "      <th>project_title</th>\n",
       "      <th>project_essay_1</th>\n",
       "      <th>project_essay_2</th>\n",
       "      <th>project_essay_3</th>\n",
       "      <th>project_essay_4</th>\n",
       "      <th>project_resource_summary</th>\n",
       "      <th>teacher_number_of_previously_posted_projects</th>\n",
       "      <th>project_is_approved</th>\n",
       "      <th>essay</th>\n",
       "      <th>price</th>\n",
       "      <th>quantity</th>\n",
       "      <th>std_price</th>\n",
       "      <th>nrm_price</th>\n",
       "      <th>project_summary_numerical</th>\n",
       "    </tr>\n",
       "  </thead>\n",
       "  <tbody>\n",
       "    <tr>\n",
       "      <th>0</th>\n",
       "      <td>0</td>\n",
       "      <td>160221</td>\n",
       "      <td>p253737</td>\n",
       "      <td>c90749f5d961ff158d4b4d1e7dc665fc</td>\n",
       "      <td>mrs</td>\n",
       "      <td>in</td>\n",
       "      <td>2016-12-05 13:43:57</td>\n",
       "      <td>grades_prek_2</td>\n",
       "      <td>literacy_language</td>\n",
       "      <td>esl_literacy</td>\n",
       "      <td>educational support english learners home</td>\n",
       "      <td>My students are English learners that are work...</td>\n",
       "      <td>\\\"The limits of your language are the limits o...</td>\n",
       "      <td>NaN</td>\n",
       "      <td>NaN</td>\n",
       "      <td>My students need opportunities to practice beg...</td>\n",
       "      <td>0</td>\n",
       "      <td>0</td>\n",
       "      <td>students english learners working english seco...</td>\n",
       "      <td>154.60</td>\n",
       "      <td>23</td>\n",
       "      <td>-0.390533</td>\n",
       "      <td>0.015397</td>\n",
       "      <td>0</td>\n",
       "    </tr>\n",
       "    <tr>\n",
       "      <th>1</th>\n",
       "      <td>1</td>\n",
       "      <td>140945</td>\n",
       "      <td>p258326</td>\n",
       "      <td>897464ce9ddc600bced1151f324dd63a</td>\n",
       "      <td>mr</td>\n",
       "      <td>fl</td>\n",
       "      <td>2016-10-25 09:22:10</td>\n",
       "      <td>grades_6_8</td>\n",
       "      <td>history_civics_health_sports</td>\n",
       "      <td>civics_government_teamsports</td>\n",
       "      <td>wanted projector hungry learners</td>\n",
       "      <td>Our students arrive to our school eager to lea...</td>\n",
       "      <td>The projector we need for our school is very c...</td>\n",
       "      <td>NaN</td>\n",
       "      <td>NaN</td>\n",
       "      <td>My students need a projector to help with view...</td>\n",
       "      <td>7</td>\n",
       "      <td>1</td>\n",
       "      <td>students arrive school eager learn polite gene...</td>\n",
       "      <td>299.00</td>\n",
       "      <td>1</td>\n",
       "      <td>0.002396</td>\n",
       "      <td>0.029839</td>\n",
       "      <td>0</td>\n",
       "    </tr>\n",
       "    <tr>\n",
       "      <th>2</th>\n",
       "      <td>2</td>\n",
       "      <td>21895</td>\n",
       "      <td>p182444</td>\n",
       "      <td>3465aaf82da834c0582ebd0ef8040ca0</td>\n",
       "      <td>ms</td>\n",
       "      <td>az</td>\n",
       "      <td>2016-08-31 12:03:56</td>\n",
       "      <td>grades_6_8</td>\n",
       "      <td>health_sports</td>\n",
       "      <td>health_wellness_teamsports</td>\n",
       "      <td>soccer equipment awesome middle school students</td>\n",
       "      <td>\\r\\n\\\"True champions aren't always the ones th...</td>\n",
       "      <td>The students on the campus come to school know...</td>\n",
       "      <td>NaN</td>\n",
       "      <td>NaN</td>\n",
       "      <td>My students need shine guards, athletic socks,...</td>\n",
       "      <td>1</td>\n",
       "      <td>0</td>\n",
       "      <td>true champions not always ones win guts mia ha...</td>\n",
       "      <td>516.85</td>\n",
       "      <td>22</td>\n",
       "      <td>0.595191</td>\n",
       "      <td>0.051628</td>\n",
       "      <td>0</td>\n",
       "    </tr>\n",
       "    <tr>\n",
       "      <th>3</th>\n",
       "      <td>3</td>\n",
       "      <td>45</td>\n",
       "      <td>p246581</td>\n",
       "      <td>f3cb9bffbba169bef1a77b243e620b60</td>\n",
       "      <td>mrs</td>\n",
       "      <td>ky</td>\n",
       "      <td>2016-10-06 21:16:17</td>\n",
       "      <td>grades_prek_2</td>\n",
       "      <td>literacy_language_math_science</td>\n",
       "      <td>literacy_mathematics</td>\n",
       "      <td>techie kindergarteners</td>\n",
       "      <td>I work at a unique school filled with both ESL...</td>\n",
       "      <td>My students live in high poverty conditions wi...</td>\n",
       "      <td>NaN</td>\n",
       "      <td>NaN</td>\n",
       "      <td>My students need to engage in Reading and Math...</td>\n",
       "      <td>4</td>\n",
       "      <td>1</td>\n",
       "      <td>work unique school filled esl english second l...</td>\n",
       "      <td>232.90</td>\n",
       "      <td>4</td>\n",
       "      <td>-0.177469</td>\n",
       "      <td>0.023228</td>\n",
       "      <td>0</td>\n",
       "    </tr>\n",
       "    <tr>\n",
       "      <th>4</th>\n",
       "      <td>4</td>\n",
       "      <td>172407</td>\n",
       "      <td>p104768</td>\n",
       "      <td>be1f7507a41f8479dc06f047086a39ec</td>\n",
       "      <td>mrs</td>\n",
       "      <td>tx</td>\n",
       "      <td>2016-07-11 01:10:09</td>\n",
       "      <td>grades_prek_2</td>\n",
       "      <td>math_science</td>\n",
       "      <td>mathematics</td>\n",
       "      <td>interactive math tools</td>\n",
       "      <td>Our second grade classroom next year will be m...</td>\n",
       "      <td>For many students, math is a subject that does...</td>\n",
       "      <td>NaN</td>\n",
       "      <td>NaN</td>\n",
       "      <td>My students need hands on practice in mathemat...</td>\n",
       "      <td>1</td>\n",
       "      <td>1</td>\n",
       "      <td>second grade classroom next year made around 2...</td>\n",
       "      <td>67.98</td>\n",
       "      <td>4</td>\n",
       "      <td>-0.626236</td>\n",
       "      <td>0.006733</td>\n",
       "      <td>0</td>\n",
       "    </tr>\n",
       "  </tbody>\n",
       "</table>\n",
       "</div>"
      ],
      "text/plain": [
       "   Unnamed: 0  Unnamed: 0.1  ... nrm_price project_summary_numerical\n",
       "0           0        160221  ...  0.015397                         0\n",
       "1           1        140945  ...  0.029839                         0\n",
       "2           2         21895  ...  0.051628                         0\n",
       "3           3            45  ...  0.023228                         0\n",
       "4           4        172407  ...  0.006733                         0\n",
       "\n",
       "[5 rows x 24 columns]"
      ]
     },
     "execution_count": 3,
     "metadata": {
      "tags": []
     },
     "output_type": "execute_result"
    }
   ],
   "source": [
    "# reading datasets\n",
    "project_data = pd.read_csv(\"drive/My Drive/ML_data/preprocessed_data.csv\")\n",
    "project_data.head()"
   ]
  },
  {
   "cell_type": "code",
   "execution_count": 4,
   "metadata": {
    "colab": {
     "base_uri": "https://localhost:8080/",
     "height": 68
    },
    "colab_type": "code",
    "id": "CwRQqVzjRx5O",
    "outputId": "ef2efa19-1c19-4662-a3b9-cd4956714c45"
   },
   "outputs": [
    {
     "data": {
      "text/plain": [
       "1    92706\n",
       "0    16542\n",
       "Name: project_is_approved, dtype: int64"
      ]
     },
     "execution_count": 4,
     "metadata": {
      "tags": []
     },
     "output_type": "execute_result"
    }
   ],
   "source": [
    "project_data[\"project_is_approved\"].value_counts()"
   ]
  },
  {
   "cell_type": "code",
   "execution_count": 5,
   "metadata": {
    "colab": {
     "base_uri": "https://localhost:8080/",
     "height": 170
    },
    "colab_type": "code",
    "id": "O1X_5TYZRx5T",
    "outputId": "27a6eb9b-d987-41b5-a936-ff29ccc40b28"
   },
   "outputs": [
    {
     "data": {
      "text/plain": [
       "Index(['Unnamed: 0', 'Unnamed: 0.1', 'id', 'teacher_id', 'teacher_prefix',\n",
       "       'school_state', 'project_submitted_datetime', 'project_grade_category',\n",
       "       'project_subject_categories', 'project_subject_subcategories',\n",
       "       'project_title', 'project_essay_1', 'project_essay_2',\n",
       "       'project_essay_3', 'project_essay_4', 'project_resource_summary',\n",
       "       'teacher_number_of_previously_posted_projects', 'project_is_approved',\n",
       "       'essay', 'price', 'quantity', 'std_price', 'nrm_price',\n",
       "       'project_summary_numerical'],\n",
       "      dtype='object')"
      ]
     },
     "execution_count": 5,
     "metadata": {
      "tags": []
     },
     "output_type": "execute_result"
    }
   ],
   "source": [
    "project_data.columns"
   ]
  },
  {
   "cell_type": "code",
   "execution_count": 6,
   "metadata": {
    "colab": {
     "base_uri": "https://localhost:8080/",
     "height": 442
    },
    "colab_type": "code",
    "id": "RvOFOJfMRx5Y",
    "outputId": "78c71e7a-f4eb-4cc5-830a-c8d626dd64ea"
   },
   "outputs": [
    {
     "data": {
      "text/plain": [
       "Unnamed: 0                                           0\n",
       "Unnamed: 0.1                                         0\n",
       "id                                                   0\n",
       "teacher_id                                           0\n",
       "teacher_prefix                                       0\n",
       "school_state                                         0\n",
       "project_submitted_datetime                           0\n",
       "project_grade_category                               0\n",
       "project_subject_categories                           0\n",
       "project_subject_subcategories                        0\n",
       "project_title                                       43\n",
       "project_essay_1                                      0\n",
       "project_essay_2                                      0\n",
       "project_essay_3                                 105490\n",
       "project_essay_4                                 105490\n",
       "project_resource_summary                             0\n",
       "teacher_number_of_previously_posted_projects         0\n",
       "project_is_approved                                  0\n",
       "essay                                                0\n",
       "price                                                0\n",
       "quantity                                             0\n",
       "std_price                                            0\n",
       "nrm_price                                            0\n",
       "project_summary_numerical                            0\n",
       "dtype: int64"
      ]
     },
     "execution_count": 6,
     "metadata": {
      "tags": []
     },
     "output_type": "execute_result"
    }
   ],
   "source": [
    "# checking for null values\n",
    "project_data.isnull().sum()"
   ]
  },
  {
   "cell_type": "code",
   "execution_count": 0,
   "metadata": {
    "colab": {},
    "colab_type": "code",
    "id": "DtYhSWb1Rx5f"
   },
   "outputs": [],
   "source": [
    "# filling the null values with ''\n",
    "project_data['project_title'] = project_data['project_title'].fillna('')"
   ]
  },
  {
   "cell_type": "code",
   "execution_count": 0,
   "metadata": {
    "colab": {},
    "colab_type": "code",
    "id": "P0ZLp10cRx5k"
   },
   "outputs": [],
   "source": [
    "# combining essay and project_title columns\n",
    "project_data['cleaned_text'] = project_data['essay'] + project_data['project_title']"
   ]
  },
  {
   "cell_type": "code",
   "execution_count": 0,
   "metadata": {
    "colab": {},
    "colab_type": "code",
    "id": "k2Gv7EP7Rx5p"
   },
   "outputs": [],
   "source": [
    "# dropping unecessary columns\n",
    "project_data = project_data.drop(['Unnamed: 0', 'Unnamed: 0.1', 'id', 'teacher_id', 'project_submitted_datetime', \n",
    "                                  'project_resource_summary', 'std_price', 'nrm_price', 'project_essay_1', 'project_essay_2', \n",
    "                                  'project_essay_3', 'project_essay_4', 'essay', 'project_title'], axis=1)"
   ]
  },
  {
   "cell_type": "code",
   "execution_count": 10,
   "metadata": {
    "colab": {
     "base_uri": "https://localhost:8080/",
     "height": 102
    },
    "colab_type": "code",
    "id": "HbhF48wZRx5u",
    "outputId": "ea7e619f-b489-46b2-a7cd-5f6f136ed66c"
   },
   "outputs": [
    {
     "data": {
      "text/plain": [
       "Index(['teacher_prefix', 'school_state', 'project_grade_category',\n",
       "       'project_subject_categories', 'project_subject_subcategories',\n",
       "       'teacher_number_of_previously_posted_projects', 'project_is_approved',\n",
       "       'price', 'quantity', 'project_summary_numerical', 'cleaned_text'],\n",
       "      dtype='object')"
      ]
     },
     "execution_count": 10,
     "metadata": {
      "tags": []
     },
     "output_type": "execute_result"
    }
   ],
   "source": [
    "# columns left after dropping unecessary columns\n",
    "project_data.columns"
   ]
  },
  {
   "cell_type": "code",
   "execution_count": 0,
   "metadata": {
    "colab": {},
    "colab_type": "code",
    "id": "sHWDzvt9Rx50"
   },
   "outputs": [],
   "source": [
    "target = project_data['project_is_approved']\n",
    "features = project_data.drop(['project_is_approved'], axis=1)"
   ]
  },
  {
   "cell_type": "code",
   "execution_count": 0,
   "metadata": {
    "colab": {},
    "colab_type": "code",
    "id": "eKoMQkxQRx55"
   },
   "outputs": [],
   "source": [
    "# splitting the dataset into train(75%) and test(25%) set\n",
    "X_train, X_test, y_train, y_test = train_test_split(features, target, stratify=target, test_size=0.25, random_state=123)"
   ]
  },
  {
   "cell_type": "code",
   "execution_count": 13,
   "metadata": {
    "colab": {
     "base_uri": "https://localhost:8080/",
     "height": 51
    },
    "colab_type": "code",
    "id": "2xgW9G5hRx6C",
    "outputId": "b6276449-b9ce-4063-aa4b-18b01b824897"
   },
   "outputs": [
    {
     "name": "stdout",
     "output_type": "stream",
     "text": [
      "Shape of Train data (81936, 10)\n",
      "Shape of Test data (27312, 10)\n"
     ]
    }
   ],
   "source": [
    "print('Shape of Train data', X_train.shape)\n",
    "print('Shape of Test data', X_test.shape)"
   ]
  },
  {
   "cell_type": "markdown",
   "metadata": {
    "colab_type": "text",
    "id": "sNIDi36GRx6Q"
   },
   "source": [
    "**Filtering Text Data (essays & project_title) based on idf values**"
   ]
  },
  {
   "cell_type": "code",
   "execution_count": 0,
   "metadata": {
    "colab": {},
    "colab_type": "code",
    "id": "k9wWRx9QRx6Y"
   },
   "outputs": [],
   "source": [
    "tfidf = TfidfVectorizer()\n",
    "combine_tfidf = tfidf.fit_transform(X_train['cleaned_text'])\n",
    "\n",
    "# converting to dictionary\n",
    "combine_dict = dict(zip(tfidf.get_feature_names(),list(tfidf.idf_)))"
   ]
  },
  {
   "cell_type": "code",
   "execution_count": 0,
   "metadata": {
    "colab": {},
    "colab_type": "code",
    "id": "LmZdLzU2Rx6w"
   },
   "outputs": [],
   "source": [
    "tfidf_df = pd.DataFrame(list(combine_dict.items()), columns=['Words', 'IDF Values'])\n",
    "tfidf_df = tfidf_df.sort_values(by ='IDF Values' )"
   ]
  },
  {
   "cell_type": "code",
   "execution_count": 16,
   "metadata": {
    "colab": {
     "base_uri": "https://localhost:8080/",
     "height": 34
    },
    "colab_type": "code",
    "id": "BU2eJIlyRx7M",
    "outputId": "619ffca0-f186-498a-ef16-dde4bbc24bf3"
   },
   "outputs": [
    {
     "data": {
      "text/plain": [
       "(61954, 2)"
      ]
     },
     "execution_count": 16,
     "metadata": {
      "tags": []
     },
     "output_type": "execute_result"
    }
   ],
   "source": [
    "corpus = tfidf_df\n",
    "corpus.shape"
   ]
  },
  {
   "cell_type": "code",
   "execution_count": 17,
   "metadata": {
    "colab": {
     "base_uri": "https://localhost:8080/",
     "height": 187
    },
    "colab_type": "code",
    "id": "18gpfrjXRx7f",
    "outputId": "31f8d49d-969b-4721-b172-35e7862db9cd"
   },
   "outputs": [
    {
     "data": {
      "text/plain": [
       "['students',\n",
       " 'school',\n",
       " 'learning',\n",
       " 'classroom',\n",
       " 'not',\n",
       " 'learn',\n",
       " 'help',\n",
       " 'many',\n",
       " 'need',\n",
       " 'work']"
      ]
     },
     "execution_count": 17,
     "metadata": {
      "tags": []
     },
     "output_type": "execute_result"
    }
   ],
   "source": [
    "vocab = corpus[\"Words\"].tolist()\n",
    "vocab[:10]"
   ]
  },
  {
   "cell_type": "markdown",
   "metadata": {
    "colab_type": "text",
    "id": "15XLMpGbRx7x"
   },
   "source": [
    "**Tokenizing the Text**"
   ]
  },
  {
   "cell_type": "code",
   "execution_count": 0,
   "metadata": {
    "colab": {},
    "colab_type": "code",
    "id": "LxQ4F2_XRx70"
   },
   "outputs": [],
   "source": [
    "# convert the sentences (strings) into integers\n",
    "tokenizer = Tokenizer()\n",
    "tokenizer.fit_on_texts(vocab)\n",
    "sequences_train = tokenizer.texts_to_sequences(X_train['cleaned_text'])\n",
    "sequences_test = tokenizer.texts_to_sequences(X_test['cleaned_text'])"
   ]
  },
  {
   "cell_type": "code",
   "execution_count": 19,
   "metadata": {
    "colab": {
     "base_uri": "https://localhost:8080/",
     "height": 34
    },
    "colab_type": "code",
    "id": "y-YKt4LuRx8G",
    "outputId": "969a0e6d-48f3-49de-c52f-f08719f8f334"
   },
   "outputs": [
    {
     "name": "stdout",
     "output_type": "stream",
     "text": [
      "Found 61954 unique tokens.\n"
     ]
    }
   ],
   "source": [
    "# get word -> integer mapping\n",
    "word2idx = tokenizer.word_index\n",
    "print('Found %s unique tokens.' % len(word2idx))"
   ]
  },
  {
   "cell_type": "markdown",
   "metadata": {
    "colab_type": "text",
    "id": "xNXd7b9lRx8f"
   },
   "source": [
    "**Padding the sequences**"
   ]
  },
  {
   "cell_type": "markdown",
   "metadata": {
    "colab_type": "text",
    "id": "Xm5e4eWFRx8g"
   },
   "source": [
    "The sequences have different lengths and Keras prefers inputs to be vectorized and all inputs to have the same length. \n",
    "We will pad all input sequences to have the length of 250"
   ]
  },
  {
   "cell_type": "code",
   "execution_count": 20,
   "metadata": {
    "colab": {
     "base_uri": "https://localhost:8080/",
     "height": 34
    },
    "colab_type": "code",
    "id": "457nWHSTRx8j",
    "outputId": "46a338c5-a0fe-49d0-94ca-dc177127b818"
   },
   "outputs": [
    {
     "name": "stdout",
     "output_type": "stream",
     "text": [
      "Shape of data tensor: (81936, 250)\n"
     ]
    }
   ],
   "source": [
    "encoded_train = pad_sequences(sequences_train, maxlen=250, padding='post', truncating='post')\n",
    "print('Shape of data tensor:', encoded_train.shape)"
   ]
  },
  {
   "cell_type": "code",
   "execution_count": 21,
   "metadata": {
    "colab": {
     "base_uri": "https://localhost:8080/",
     "height": 34
    },
    "colab_type": "code",
    "id": "dtD1FSfERx9B",
    "outputId": "9f7060e9-da8b-44f7-ace3-d61af3db3d0f"
   },
   "outputs": [
    {
     "name": "stdout",
     "output_type": "stream",
     "text": [
      "Shape of data tensor: (27312, 250)\n"
     ]
    }
   ],
   "source": [
    "encoded_test = pad_sequences(sequences_test, maxlen=250,padding='post', truncating='post')\n",
    "print('Shape of data tensor:', encoded_test.shape)"
   ]
  },
  {
   "cell_type": "markdown",
   "metadata": {
    "colab_type": "text",
    "id": "FfhB6e54Rx9K"
   },
   "source": [
    "**Getting the vector representation using Glove vectors**"
   ]
  },
  {
   "cell_type": "code",
   "execution_count": 0,
   "metadata": {
    "colab": {},
    "colab_type": "code",
    "id": "w5F0VaCERx9N"
   },
   "outputs": [],
   "source": [
    "# Loading Embedding File\n",
    "pickle_in = open('drive/My Drive/ML_data/glove_vectors','rb')\n",
    "glove_words = pickle.load(pickle_in)"
   ]
  },
  {
   "cell_type": "code",
   "execution_count": 0,
   "metadata": {
    "colab": {},
    "colab_type": "code",
    "id": "y9ibo_7wRx9w"
   },
   "outputs": [],
   "source": [
    "num_words = len(word2idx) + 1\n",
    "embedding_matrix = np.zeros((num_words, 300))\n",
    "for word, i in word2idx.items():\n",
    "    if i < len(vocab):\n",
    "        embedding_vector = glove_words.get(word)\n",
    "        if embedding_vector is not None:\n",
    "          # words not found in embedding index will be all zeros.\n",
    "          embedding_matrix[i] = embedding_vector"
   ]
  },
  {
   "cell_type": "code",
   "execution_count": 24,
   "metadata": {
    "colab": {
     "base_uri": "https://localhost:8080/",
     "height": 68
    },
    "colab_type": "code",
    "id": "ThjkpQymRx99",
    "outputId": "197e2ec1-08b6-4cd8-9459-8fcbac67808e"
   },
   "outputs": [
    {
     "name": "stdout",
     "output_type": "stream",
     "text": [
      "61955\n",
      "--------------\n",
      "(61955, 300)\n"
     ]
    }
   ],
   "source": [
    "print(num_words)\n",
    "print('--------------')\n",
    "print(embedding_matrix.shape)"
   ]
  },
  {
   "cell_type": "markdown",
   "metadata": {
    "colab_type": "text",
    "id": "z4_kJjjVRx-K"
   },
   "source": [
    "**Vectorizing all the categorical features using CountVectorizer**"
   ]
  },
  {
   "cell_type": "code",
   "execution_count": 0,
   "metadata": {
    "colab": {},
    "colab_type": "code",
    "id": "_Ba_ZQz0Rx-M"
   },
   "outputs": [],
   "source": [
    "vect = CountVectorizer(binary=True)\n",
    "\n",
    "train_prefix = vect.fit_transform(X_train[\"teacher_prefix\"])\n",
    "test_prefix = vect.transform(X_test[\"teacher_prefix\"])"
   ]
  },
  {
   "cell_type": "code",
   "execution_count": 0,
   "metadata": {
    "colab": {},
    "colab_type": "code",
    "id": "IEg1gJEaRx-S"
   },
   "outputs": [],
   "source": [
    "vect = CountVectorizer(binary=True)\n",
    "\n",
    "train_state = vect.fit_transform(X_train[\"school_state\"])\n",
    "test_state = vect.transform(X_test[\"school_state\"])"
   ]
  },
  {
   "cell_type": "code",
   "execution_count": 0,
   "metadata": {
    "colab": {},
    "colab_type": "code",
    "id": "FNo47vTmRx-Z"
   },
   "outputs": [],
   "source": [
    "vect = CountVectorizer(binary=True)\n",
    "\n",
    "train_grade = vect.fit_transform(X_train[\"project_grade_category\"])\n",
    "test_grade = vect.transform(X_test[\"project_grade_category\"])"
   ]
  },
  {
   "cell_type": "code",
   "execution_count": 0,
   "metadata": {
    "colab": {},
    "colab_type": "code",
    "id": "_xCF7BFyRx-m"
   },
   "outputs": [],
   "source": [
    "vect = CountVectorizer(binary=True)\n",
    "\n",
    "train_subcat = vect.fit_transform(X_train[\"project_subject_categories\"])\n",
    "test_subcat = vect.transform(X_test[\"project_subject_categories\"])"
   ]
  },
  {
   "cell_type": "code",
   "execution_count": 0,
   "metadata": {
    "colab": {},
    "colab_type": "code",
    "id": "jUhVbBWdRx_C"
   },
   "outputs": [],
   "source": [
    "vect = CountVectorizer(binary=True)\n",
    "\n",
    "train_subcat_1 = vect.fit_transform(X_train[\"project_subject_subcategories\"])\n",
    "test_subcat_1 = vect.transform(X_test[\"project_subject_subcategories\"])"
   ]
  },
  {
   "cell_type": "markdown",
   "metadata": {
    "colab_type": "text",
    "id": "mxsxKFFfRx_Z"
   },
   "source": [
    "**Reshaping & Standardizing numerical features**"
   ]
  },
  {
   "cell_type": "code",
   "execution_count": 0,
   "metadata": {
    "colab": {},
    "colab_type": "code",
    "id": "_QRPax6ERx_b"
   },
   "outputs": [],
   "source": [
    "num_train_1=X_train['project_summary_numerical'].values.reshape(-1, 1)\n",
    "num_train_2=X_train['price'].values.reshape(-1, 1)\n",
    "num_train_3=X_train['quantity'].values.reshape(-1, 1)\n",
    "num_train_4=X_train['teacher_number_of_previously_posted_projects'].values.reshape(-1, 1)\n",
    "\n",
    "num_test_1=X_test['project_summary_numerical'].values.reshape(-1, 1)\n",
    "num_test_2=X_test['price'].values.reshape(-1, 1)\n",
    "num_test_3=X_test['quantity'].values.reshape(-1, 1)\n",
    "num_test_4=X_test['teacher_number_of_previously_posted_projects'].values.reshape(-1, 1)"
   ]
  },
  {
   "cell_type": "code",
   "execution_count": 0,
   "metadata": {
    "colab": {},
    "colab_type": "code",
    "id": "a2kTxZASRx_o"
   },
   "outputs": [],
   "source": [
    "# concatenating train numerical features\n",
    "num_train=np.concatenate((num_train_1,num_train_2,num_train_3,num_train_4),axis=1)\n",
    "\n",
    "# concatenating test numerical features\n",
    "num_test=np.concatenate((num_test_1,num_test_2,num_test_3,num_test_4),axis=1)\n",
    "\n",
    "# Standardizing the features\n",
    "norm=StandardScaler()\n",
    "norm_train=norm.fit_transform(num_train)\n",
    "norm_test=norm.transform(num_test)"
   ]
  },
  {
   "cell_type": "code",
   "execution_count": 0,
   "metadata": {
    "colab": {},
    "colab_type": "code",
    "id": "pdiTYTIjRx_w"
   },
   "outputs": [],
   "source": [
    "# concatencating categorical features\n",
    "cat_train = hstack([train_prefix,train_state,train_grade,train_subcat,train_subcat_1]).todense()\n",
    "cat_test = hstack([test_prefix,test_state,test_grade,test_subcat,test_subcat_1]).todense()"
   ]
  },
  {
   "cell_type": "code",
   "execution_count": 0,
   "metadata": {
    "colab": {},
    "colab_type": "code",
    "id": "rA0WoWBbRx_9"
   },
   "outputs": [],
   "source": [
    "# concatenating the numerical & categorical features\n",
    "all_train = np.hstack((cat_train,norm_train))\n",
    "all_test = np.hstack((cat_test,norm_test))"
   ]
  },
  {
   "cell_type": "code",
   "execution_count": 0,
   "metadata": {
    "colab": {},
    "colab_type": "code",
    "id": "sjI9fjd6RyAS"
   },
   "outputs": [],
   "source": [
    "final_train = np.expand_dims(all_train,2)\n",
    "final_test = np.expand_dims(all_test,2)"
   ]
  },
  {
   "cell_type": "code",
   "execution_count": 35,
   "metadata": {
    "colab": {
     "base_uri": "https://localhost:8080/",
     "height": 68
    },
    "colab_type": "code",
    "id": "fF2SHbf7RyAc",
    "outputId": "44e2f358-3bda-4032-eaf4-a166f8cd21b6"
   },
   "outputs": [
    {
     "name": "stdout",
     "output_type": "stream",
     "text": [
      "(81936, 512, 1)\n",
      "----------------\n",
      "(27312, 512, 1)\n"
     ]
    }
   ],
   "source": [
    "print(final_train.shape)\n",
    "print('----------------')\n",
    "print(final_test.shape)"
   ]
  },
  {
   "cell_type": "markdown",
   "metadata": {
    "colab_type": "text",
    "id": "GapQXIB2RyAj"
   },
   "source": [
    "## Defining model architecture"
   ]
  },
  {
   "cell_type": "markdown",
   "metadata": {},
   "source": [
    "<img src=\"model.jpeg\">"
   ]
  },
  {
   "cell_type": "code",
   "execution_count": 36,
   "metadata": {
    "colab": {
     "base_uri": "https://localhost:8080/",
     "height": 258
    },
    "colab_type": "code",
    "id": "W8jlxZhvRyAs",
    "outputId": "a49d1e4a-18e4-40c6-c178-3a084d1c04d1"
   },
   "outputs": [
    {
     "name": "stdout",
     "output_type": "stream",
     "text": [
      "WARNING:tensorflow:From /usr/local/lib/python3.6/dist-packages/keras/backend/tensorflow_backend.py:66: The name tf.get_default_graph is deprecated. Please use tf.compat.v1.get_default_graph instead.\n",
      "\n",
      "WARNING:tensorflow:From /usr/local/lib/python3.6/dist-packages/keras/backend/tensorflow_backend.py:541: The name tf.placeholder is deprecated. Please use tf.compat.v1.placeholder instead.\n",
      "\n",
      "WARNING:tensorflow:From /usr/local/lib/python3.6/dist-packages/keras/backend/tensorflow_backend.py:4432: The name tf.random_uniform is deprecated. Please use tf.random.uniform instead.\n",
      "\n",
      "WARNING:tensorflow:From /usr/local/lib/python3.6/dist-packages/keras/backend/tensorflow_backend.py:190: The name tf.get_default_session is deprecated. Please use tf.compat.v1.get_default_session instead.\n",
      "\n",
      "WARNING:tensorflow:From /usr/local/lib/python3.6/dist-packages/keras/backend/tensorflow_backend.py:197: The name tf.ConfigProto is deprecated. Please use tf.compat.v1.ConfigProto instead.\n",
      "\n",
      "WARNING:tensorflow:From /usr/local/lib/python3.6/dist-packages/keras/backend/tensorflow_backend.py:3733: calling dropout (from tensorflow.python.ops.nn_ops) with keep_prob is deprecated and will be removed in a future version.\n",
      "Instructions for updating:\n",
      "Please use `rate` instead of `keep_prob`. Rate should be set to `rate = 1 - keep_prob`.\n"
     ]
    }
   ],
   "source": [
    "# load pre-trained word embeddings into an Embedding layer\n",
    "# note that we set trainable = False so as to keep the embeddings of fixed sized\n",
    "embedding_layer = Embedding(\n",
    "  num_words,\n",
    "  300,\n",
    "  weights=[embedding_matrix],\n",
    "  input_length=250,\n",
    "  trainable=False\n",
    ")\n",
    "input_text = Input(shape=(250,),name=\"input_text\")\n",
    "x = embedding_layer(input_text)\n",
    "x = LSTM(100,recurrent_dropout=0.5,kernel_regularizer=regularizers.l2(0.001),return_sequences=True)(x)\n",
    "flatten_1 = Flatten()(x)"
   ]
  },
  {
   "cell_type": "code",
   "execution_count": 37,
   "metadata": {
    "colab": {
     "base_uri": "https://localhost:8080/",
     "height": 34
    },
    "colab_type": "code",
    "id": "nJvmJIZdRyA6",
    "outputId": "cfed4f65-7009-44f7-d4dc-83afd53da0ef"
   },
   "outputs": [
    {
     "name": "stdout",
     "output_type": "stream",
     "text": [
      "Unique Categories: 5 Embedding Size: 3\n"
     ]
    }
   ],
   "source": [
    "# Now will prepare all the remaining categorical features\n",
    "# Teacher Prefix\n",
    "no_of_unique_prefix  = X_train[\"teacher_prefix\"].nunique()\n",
    "embedding_size_prefix = int(min(np.ceil((no_of_unique_prefix)/2), 50 ))\n",
    "print('Unique Categories:', no_of_unique_prefix, 'Embedding Size:', embedding_size_prefix)\n",
    "\n",
    "\n",
    "# Defining Input and Embedding Layer for the same\n",
    "\n",
    "input_prefix = Input(shape=(1,), name=\"teacher_prefix\")\n",
    "embedding_prefix = Embedding(no_of_unique_prefix, embedding_size_prefix, name=\"emb_pre\", trainable=True)(input_prefix)\n",
    "flatten_2 = Flatten()(embedding_prefix)\n",
    "\n",
    "lb = LabelEncoder()\n",
    "encoder_prefix_train = lb.fit_transform(X_train[\"teacher_prefix\"])\n",
    "encoder_prefix_test = lb.transform(X_test[\"teacher_prefix\"])"
   ]
  },
  {
   "cell_type": "code",
   "execution_count": 38,
   "metadata": {
    "colab": {
     "base_uri": "https://localhost:8080/",
     "height": 34
    },
    "colab_type": "code",
    "id": "VgYCJzwtRyBS",
    "outputId": "06765838-b63b-4f09-a11c-5f026b29d3f2"
   },
   "outputs": [
    {
     "name": "stdout",
     "output_type": "stream",
     "text": [
      "Unique Categories: 51 Embedding Size: 26\n"
     ]
    }
   ],
   "source": [
    "# School State\n",
    "no_of_unique_state  = X_train[\"school_state\"].nunique()\n",
    "embedding_size_state= int(min(np.ceil((no_of_unique_state)/2), 50 ))\n",
    "print('Unique Categories:', no_of_unique_state, 'Embedding Size:', embedding_size_state)\n",
    "\n",
    "\n",
    "# Defining Input and Embedding Layer for the same\n",
    "\n",
    "input_state = Input(shape=(1,), name=\"school_prefix\")\n",
    "embedding_state = Embedding(no_of_unique_state, embedding_size_state, name=\"emb_state\", trainable=True)(input_state)\n",
    "flatten_3 = Flatten()(embedding_state)\n",
    "\n",
    "\n",
    "encoder_state_train = lb.fit_transform(X_train[\"school_state\"])\n",
    "# encoder_state_cv = lb.transform(X_cv[\"school_state\"])\n",
    "encoder_state_test = lb.transform(X_test[\"school_state\"])"
   ]
  },
  {
   "cell_type": "code",
   "execution_count": 39,
   "metadata": {
    "colab": {
     "base_uri": "https://localhost:8080/",
     "height": 34
    },
    "colab_type": "code",
    "id": "KgYrb8u_RyBl",
    "outputId": "42601302-c742-49cb-bf56-6f990c47f79e"
   },
   "outputs": [
    {
     "name": "stdout",
     "output_type": "stream",
     "text": [
      "Unique Categories: 4 Embedding Size: 2\n"
     ]
    }
   ],
   "source": [
    "# For project_grade_category\n",
    "no_of_unique_grade  = X_train[\"project_grade_category\"].nunique()\n",
    "embedding_size_grade = int(min(np.ceil((no_of_unique_grade)/2), 50 ))\n",
    "print('Unique Categories:', no_of_unique_grade, 'Embedding Size:', embedding_size_grade)\n",
    "\n",
    "\n",
    "# Defining Input and Embedding Layer for the same\n",
    "\n",
    "input_grade= Input(shape=(1,),name=\"grade_cat\")\n",
    "embedding_grade = Embedding(no_of_unique_grade, embedding_size_grade, name=\"emb_grade\", trainable=True)(input_grade)\n",
    "flatten_4 = Flatten()(embedding_grade)\n",
    "\n",
    "\n",
    "encoder_grade_train = lb.fit_transform(X_train[\"project_grade_category\"])\n",
    "# encoder_grade_cv = lb.transform(X_cv[\"project_grade_category\"])\n",
    "encoder_grade_test = lb.transform(X_test[\"project_grade_category\"])"
   ]
  },
  {
   "cell_type": "code",
   "execution_count": 40,
   "metadata": {
    "colab": {
     "base_uri": "https://localhost:8080/",
     "height": 34
    },
    "colab_type": "code",
    "id": "LkWkYFyDRyBu",
    "outputId": "ac1c7983-030c-49cd-ed2a-84dcb1782a73"
   },
   "outputs": [
    {
     "name": "stdout",
     "output_type": "stream",
     "text": [
      "Unique Categories: 51 Embedding Size: 26\n"
     ]
    }
   ],
   "source": [
    "# For project_subject_categories\n",
    "no_of_unique_subcat  = X_train[\"project_subject_categories\"].nunique()\n",
    "embedding_size_subcat = int(min(np.ceil((no_of_unique_subcat)/2), 50 ))\n",
    "print('Unique Categories:', no_of_unique_subcat,'Embedding Size:', embedding_size_subcat)\n",
    "\n",
    "\n",
    "# Defining Input and Embedding Layer for the same\n",
    "\n",
    "input_subcat= Input(shape=(1,),name=\"sub_cat\")\n",
    "embedding_subcat = Embedding(no_of_unique_subcat,embedding_size_subcat,name=\"emb_subcat\",trainable=True)(input_subcat)\n",
    "flatten_5 = Flatten()(embedding_subcat)\n",
    "\n",
    "le = LabelEncoder()\n",
    "le.fit(X_train[\"project_subject_categories\"])\n",
    "X_test[\"project_subject_categories\"] = X_test[\"project_subject_categories\"].map(lambda s: '<unknown>' if s not in le.classes_ else s)\n",
    "\n",
    "le.classes_ = np.append(le.classes_, '<unknown>')\n",
    "encoder_subcat_train = le.transform(X_train[\"project_subject_categories\"])\n",
    "encoder_subcat_test= le.transform(X_test[\"project_subject_categories\"])"
   ]
  },
  {
   "cell_type": "code",
   "execution_count": 41,
   "metadata": {
    "colab": {
     "base_uri": "https://localhost:8080/",
     "height": 34
    },
    "colab_type": "code",
    "id": "6XQDwI9ZRyB2",
    "outputId": "4d9cf350-a27a-4029-aeb8-4e262b008979"
   },
   "outputs": [
    {
     "name": "stdout",
     "output_type": "stream",
     "text": [
      "Unique Categories: 397 Embedding Size: 50\n"
     ]
    }
   ],
   "source": [
    "# For project_subject_subcategories\n",
    "no_of_unique_subcat_1  = X_train[\"project_subject_subcategories\"].nunique()\n",
    "embedding_size_subcat_1 = int(min(np.ceil((no_of_unique_subcat_1)/2), 50 ))\n",
    "print('Unique Categories:', no_of_unique_subcat_1,'Embedding Size:', embedding_size_subcat_1)\n",
    "\n",
    "# Defining Input and Embedding Layer for the same\n",
    "\n",
    "input_subcat_1= Input(shape=(1,),name=\"sub_cat_1\")\n",
    "embedding_subcat_1 = Embedding(no_of_unique_subcat_1,embedding_size_subcat_1,name=\"emb_subcat_1\",trainable=True)(input_subcat_1)\n",
    "flatten_6 = Flatten()(embedding_subcat_1)\n",
    "\n",
    "\n",
    "le = LabelEncoder()\n",
    "le.fit(X_train[\"project_subject_subcategories\"])\n",
    "X_test[\"project_subject_subcategories\"] = X_test[\"project_subject_subcategories\"].map(lambda s: '<unknown>' if s not in le.classes_ else s)\n",
    "\n",
    "le.classes_ = np.append(le.classes_, '<unknown>')\n",
    "encoder_subcat_1_train = le.transform(X_train[\"project_subject_subcategories\"])\n",
    "encoder_subcat_1_test= le.transform(X_test[\"project_subject_subcategories\"])"
   ]
  },
  {
   "cell_type": "code",
   "execution_count": 0,
   "metadata": {
    "colab": {},
    "colab_type": "code",
    "id": "QGIB0t-FRyCL"
   },
   "outputs": [],
   "source": [
    "# Defining the Input and Embedding Layer for the same\n",
    "\n",
    "num_feats = Input(shape=(4,),name=\"numerical_features\")\n",
    "num_feats_ = Dense(100,activation=\"relu\",kernel_initializer=\"he_normal\")(num_feats)"
   ]
  },
  {
   "cell_type": "code",
   "execution_count": 44,
   "metadata": {
    "colab": {
     "base_uri": "https://localhost:8080/",
     "height": 34
    },
    "colab_type": "code",
    "id": "Po-PKkpIRyCS",
    "outputId": "d0c9bb23-e12d-46b1-ff59-44f43d5c90b8"
   },
   "outputs": [
    {
     "name": "stdout",
     "output_type": "stream",
     "text": [
      "Building Model-1\n"
     ]
    }
   ],
   "source": [
    "print(\"Building Model-1\")\n",
    "x_concatenate = concatenate([flatten_1, flatten_2, flatten_3, flatten_4, flatten_5, flatten_6, num_feats_])\n",
    "\n",
    "x = Dense(128,activation=\"relu\", kernel_initializer=\"he_normal\",kernel_regularizer=regularizers.l2(0.001))(x_concatenate)\n",
    "\n",
    "x=Dropout(0.5)(x)\n",
    "\n",
    "x = Dense(256,activation=\"relu\",kernel_initializer=\"he_normal\",kernel_regularizer=regularizers.l2(0.001))(x)\n",
    "\n",
    "x=Dropout(0.5)(x)\n",
    "\n",
    "x = Dense(64,activation=\"relu\", kernel_initializer=\"he_normal\",kernel_regularizer=regularizers.l2(0.001))(x)\n",
    "\n",
    "output = Dense(2, activation='softmax', name='output')(x)\n",
    "model_1 = Model(inputs=[input_text, input_prefix, input_state, input_grade,\n",
    "                        input_subcat, input_subcat_1, num_feats],outputs=[output])"
   ]
  },
  {
   "cell_type": "code",
   "execution_count": 0,
   "metadata": {
    "colab": {},
    "colab_type": "code",
    "id": "Yf0A39WbRyCa"
   },
   "outputs": [],
   "source": [
    "train_data_1 = [encoded_train,encoder_prefix_train,encoder_state_train,\n",
    "              encoder_grade_train,encoder_subcat_train,encoder_subcat_1_train,norm_train]\n",
    "test_data_1 = [encoded_test,encoder_prefix_test,encoder_state_test,encoder_grade_test,\n",
    "             encoder_subcat_test,encoder_subcat_1_test,norm_test]\n",
    "\n",
    "Y_train = np_utils.to_categorical(y_train, 2) \n",
    "Y_test = np_utils.to_categorical(y_test, 2)"
   ]
  },
  {
   "cell_type": "code",
   "execution_count": 0,
   "metadata": {
    "colab": {},
    "colab_type": "code",
    "id": "KhPZbOWkRyCj"
   },
   "outputs": [],
   "source": [
    "checkpoint_1 = ModelCheckpoint(\"model_1.h5\",\n",
    "                             monitor=\"val_loss\",\n",
    "                             mode=\"min\",\n",
    "                             save_best_only = True,\n",
    "                             verbose=1)\n",
    "\n",
    "earlystop_1 = EarlyStopping(monitor = 'val_loss', \n",
    "                            mode=\"min\",\n",
    "                            min_delta = 0, \n",
    "                            patience = 5,\n",
    "                            verbose = 1,\n",
    "                            restore_best_weights = True)\n",
    "\n",
    "reduce_lr_1 = ReduceLROnPlateau(monitor = 'val_loss', factor = 0.2, patience = 2, verbose = 1, min_delta = 0.0001)\n",
    "\n",
    "tensorboard_1 = TensorBoard(log_dir='graph_1', histogram_freq=0, batch_size=512, write_graph=True, write_grads=False, write_images=False, \n",
    "                            embeddings_freq=0, embeddings_layer_names=None, embeddings_metadata=None, embeddings_data=None, update_freq='epoch')\n",
    "\n",
    "callbacks_1 = [checkpoint_1, earlystop_1, tensorboard_1, reduce_lr_1]"
   ]
  },
  {
   "cell_type": "code",
   "execution_count": 0,
   "metadata": {
    "colab": {},
    "colab_type": "code",
    "id": "LLQM-wOuRyCt"
   },
   "outputs": [],
   "source": [
    "# Defining Custom ROC-AUC function\n",
    "from sklearn.metrics import roc_auc_score\n",
    "\n",
    "def auc1(y_true, y_pred):\n",
    "    if len(np.unique(y_true[:,1])) == 1:\n",
    "        return 0.5\n",
    "    else:\n",
    "        return roc_auc_score(y_true, y_pred)\n",
    "\n",
    "def auroc(y_true, y_pred):\n",
    "    return tf.py_func(auc1, (y_true, y_pred), tf.double)"
   ]
  },
  {
   "cell_type": "code",
   "execution_count": 0,
   "metadata": {
    "colab": {},
    "colab_type": "code",
    "id": "whShTTtvRyDB"
   },
   "outputs": [],
   "source": [
    "adam = Adam(lr=0.001, beta_1=0.9, beta_2=0.999, epsilon=None, decay=0.0, amsgrad=False)"
   ]
  },
  {
   "cell_type": "code",
   "execution_count": 49,
   "metadata": {
    "colab": {
     "base_uri": "https://localhost:8080/",
     "height": 292
    },
    "colab_type": "code",
    "id": "DKeB5deuRyDQ",
    "outputId": "7d34cb9a-d5f7-441b-9e47-a6af270c0ff4"
   },
   "outputs": [
    {
     "name": "stdout",
     "output_type": "stream",
     "text": [
      "WARNING:tensorflow:From /usr/local/lib/python3.6/dist-packages/keras/optimizers.py:793: The name tf.train.Optimizer is deprecated. Please use tf.compat.v1.train.Optimizer instead.\n",
      "\n",
      "WARNING:tensorflow:From <ipython-input-47-a7e6cba44e56>:10: py_func (from tensorflow.python.ops.script_ops) is deprecated and will be removed in a future version.\n",
      "Instructions for updating:\n",
      "tf.py_func is deprecated in TF V2. Instead, there are two\n",
      "    options available in V2.\n",
      "    - tf.py_function takes a python function which manipulates tf eager\n",
      "    tensors instead of numpy arrays. It's easy to convert a tf eager tensor to\n",
      "    an ndarray (just call tensor.numpy()) but having access to eager tensors\n",
      "    means `tf.py_function`s can use accelerators such as GPUs as well as\n",
      "    being differentiable using a gradient tape.\n",
      "    - tf.numpy_function maintains the semantics of the deprecated tf.py_func\n",
      "    (it is not differentiable, and manipulates numpy arrays). It drops the\n",
      "    stateful argument making all functions stateful.\n",
      "    \n"
     ]
    }
   ],
   "source": [
    "model_1.compile(optimizer=adam, loss='categorical_crossentropy', metrics=[auroc])"
   ]
  },
  {
   "cell_type": "code",
   "execution_count": 50,
   "metadata": {
    "colab": {
     "base_uri": "https://localhost:8080/",
     "height": 1000
    },
    "colab_type": "code",
    "id": "iJoWnjwLRyDX",
    "outputId": "fb7edd27-717d-40f8-c41a-01fdc490a923",
    "scrolled": false
   },
   "outputs": [
    {
     "name": "stdout",
     "output_type": "stream",
     "text": [
      "WARNING:tensorflow:From /usr/local/lib/python3.6/dist-packages/tensorflow/python/ops/math_grad.py:1250: add_dispatch_support.<locals>.wrapper (from tensorflow.python.ops.array_ops) is deprecated and will be removed in a future version.\n",
      "Instructions for updating:\n",
      "Use tf.where in 2.0, which has the same broadcast rule as np.where\n",
      "Train on 81936 samples, validate on 27312 samples\n",
      "WARNING:tensorflow:From /usr/local/lib/python3.6/dist-packages/keras/callbacks.py:1122: The name tf.summary.merge_all is deprecated. Please use tf.compat.v1.summary.merge_all instead.\n",
      "\n",
      "WARNING:tensorflow:From /usr/local/lib/python3.6/dist-packages/keras/callbacks.py:1125: The name tf.summary.FileWriter is deprecated. Please use tf.compat.v1.summary.FileWriter instead.\n",
      "\n",
      "Epoch 1/30\n",
      "81936/81936 [==============================] - 106s 1ms/step - loss: 1.0864 - auroc: 0.6632 - val_loss: 0.7569 - val_auroc: 0.7249\n",
      "\n",
      "Epoch 00001: val_loss improved from inf to 0.75690, saving model to model_1.h5\n",
      "Epoch 2/30\n",
      "81936/81936 [==============================] - 103s 1ms/step - loss: 0.6238 - auroc: 0.7287 - val_loss: 0.5408 - val_auroc: 0.7376\n",
      "\n",
      "Epoch 00002: val_loss improved from 0.75690 to 0.54081, saving model to model_1.h5\n",
      "Epoch 3/30\n",
      "81936/81936 [==============================] - 103s 1ms/step - loss: 0.5003 - auroc: 0.7453 - val_loss: 0.4659 - val_auroc: 0.7488\n",
      "\n",
      "Epoch 00003: val_loss improved from 0.54081 to 0.46587, saving model to model_1.h5\n",
      "Epoch 4/30\n",
      "81936/81936 [==============================] - 102s 1ms/step - loss: 0.4485 - auroc: 0.7552 - val_loss: 0.4689 - val_auroc: 0.7574\n",
      "\n",
      "Epoch 00004: val_loss did not improve from 0.46587\n",
      "Epoch 5/30\n",
      "81936/81936 [==============================] - 104s 1ms/step - loss: 0.4223 - auroc: 0.7612 - val_loss: 0.4120 - val_auroc: 0.7591\n",
      "\n",
      "Epoch 00005: val_loss improved from 0.46587 to 0.41204, saving model to model_1.h5\n",
      "Epoch 6/30\n",
      "81936/81936 [==============================] - 102s 1ms/step - loss: 0.4068 - auroc: 0.7640 - val_loss: 0.4148 - val_auroc: 0.7526\n",
      "\n",
      "Epoch 00006: val_loss did not improve from 0.41204\n",
      "Epoch 7/30\n",
      "81936/81936 [==============================] - 102s 1ms/step - loss: 0.4018 - auroc: 0.7651 - val_loss: 0.4072 - val_auroc: 0.7599\n",
      "\n",
      "Epoch 00007: val_loss improved from 0.41204 to 0.40720, saving model to model_1.h5\n",
      "Epoch 8/30\n",
      "81936/81936 [==============================] - 103s 1ms/step - loss: 0.3927 - auroc: 0.7665 - val_loss: 0.3939 - val_auroc: 0.7579\n",
      "\n",
      "Epoch 00008: val_loss improved from 0.40720 to 0.39390, saving model to model_1.h5\n",
      "Epoch 9/30\n",
      "81936/81936 [==============================] - 104s 1ms/step - loss: 0.3912 - auroc: 0.7656 - val_loss: 0.3976 - val_auroc: 0.7621\n",
      "\n",
      "Epoch 00009: val_loss did not improve from 0.39390\n",
      "Epoch 10/30\n",
      "81936/81936 [==============================] - 104s 1ms/step - loss: 0.3895 - auroc: 0.7665 - val_loss: 0.3888 - val_auroc: 0.7597\n",
      "\n",
      "Epoch 00010: val_loss improved from 0.39390 to 0.38878, saving model to model_1.h5\n",
      "Epoch 11/30\n",
      "81936/81936 [==============================] - 103s 1ms/step - loss: 0.3852 - auroc: 0.7675 - val_loss: 0.3964 - val_auroc: 0.7594\n",
      "\n",
      "Epoch 00011: val_loss did not improve from 0.38878\n",
      "Epoch 12/30\n",
      "81936/81936 [==============================] - 103s 1ms/step - loss: 0.3836 - auroc: 0.7693 - val_loss: 0.3885 - val_auroc: 0.7603\n",
      "\n",
      "Epoch 00012: val_loss improved from 0.38878 to 0.38847, saving model to model_1.h5\n",
      "Epoch 13/30\n",
      "81936/81936 [==============================] - 102s 1ms/step - loss: 0.3813 - auroc: 0.7702 - val_loss: 0.3986 - val_auroc: 0.7559\n",
      "\n",
      "Epoch 00013: val_loss did not improve from 0.38847\n",
      "Epoch 14/30\n",
      "81936/81936 [==============================] - 103s 1ms/step - loss: 0.3829 - auroc: 0.7697 - val_loss: 0.3867 - val_auroc: 0.7612\n",
      "\n",
      "Epoch 00014: val_loss improved from 0.38847 to 0.38666, saving model to model_1.h5\n",
      "Epoch 15/30\n",
      "81920/81936 [============================>.] - ETA: 0s - loss: 0.3832 - auroc: 0.7708\n",
      "Epoch 00015: val_loss improved from 0.38666 to 0.38624, saving model to model_1.h5\n",
      "Epoch 16/30\n",
      "81936/81936 [==============================] - 101s 1ms/step - loss: 0.3807 - auroc: 0.7716 - val_loss: 0.4252 - val_auroc: 0.7590\n",
      "\n",
      "Epoch 00016: val_loss did not improve from 0.38624\n",
      "Epoch 17/30\n",
      "81936/81936 [==============================] - 104s 1ms/step - loss: 0.3800 - auroc: 0.7715 - val_loss: 0.4037 - val_auroc: 0.7592\n",
      "\n",
      "Epoch 00017: val_loss did not improve from 0.38624\n",
      "\n",
      "Epoch 00017: ReduceLROnPlateau reducing learning rate to 0.00020000000949949026.\n",
      "Epoch 18/30\n",
      "81936/81936 [==============================] - 102s 1ms/step - loss: 0.3712 - auroc: 0.7784 - val_loss: 0.3786 - val_auroc: 0.7636\n",
      "\n",
      "Epoch 00018: val_loss improved from 0.38624 to 0.37857, saving model to model_1.h5\n",
      "Epoch 19/30\n",
      "81936/81936 [==============================] - 103s 1ms/step - loss: 0.3661 - auroc: 0.7837 - val_loss: 0.3798 - val_auroc: 0.7625\n",
      "\n",
      "Epoch 00019: val_loss did not improve from 0.37857\n",
      "Epoch 20/30\n",
      "81936/81936 [==============================] - 104s 1ms/step - loss: 0.3639 - auroc: 0.7870 - val_loss: 0.3795 - val_auroc: 0.7631\n",
      "\n",
      "Epoch 00020: val_loss did not improve from 0.37857\n",
      "\n",
      "Epoch 00020: ReduceLROnPlateau reducing learning rate to 4.0000001899898055e-05.\n",
      "Epoch 21/30\n",
      "81936/81936 [==============================] - 103s 1ms/step - loss: 0.3605 - auroc: 0.7905 - val_loss: 0.3786 - val_auroc: 0.7635\n",
      "\n",
      "Epoch 00021: val_loss did not improve from 0.37857\n",
      "Epoch 22/30\n",
      "81936/81936 [==============================] - 105s 1ms/step - loss: 0.3593 - auroc: 0.7927 - val_loss: 0.3790 - val_auroc: 0.7630\n",
      "\n",
      "Epoch 00022: val_loss did not improve from 0.37857\n",
      "\n",
      "Epoch 00022: ReduceLROnPlateau reducing learning rate to 8.000000525498762e-06.\n",
      "Epoch 23/30\n",
      "81936/81936 [==============================] - 104s 1ms/step - loss: 0.3586 - auroc: 0.7925 - val_loss: 0.3790 - val_auroc: 0.7630\n",
      "\n",
      "Epoch 00023: val_loss did not improve from 0.37857\n",
      "Restoring model weights from the end of the best epoch\n",
      "Epoch 00023: early stopping\n"
     ]
    }
   ],
   "source": [
    "history_1 = model_1.fit(train_data_1, Y_train, batch_size=512,\n",
    "                        epochs=30, validation_data=(test_data_1,Y_test), callbacks=callbacks_1)"
   ]
  },
  {
   "cell_type": "code",
   "execution_count": 52,
   "metadata": {
    "colab": {
     "base_uri": "https://localhost:8080/",
     "height": 531
    },
    "colab_type": "code",
    "id": "hgkj62AMRyDg",
    "outputId": "04cc72bf-b2c7-488f-efe2-0b5109d61a84"
   },
   "outputs": [
    {
     "data": {
      "image/png": "[encoded data removed]",
      "text/plain": [
       "<Figure size 432x288 with 1 Axes>"
      ]
     },
     "metadata": {
      "tags": []
     },
     "output_type": "display_data"
    },
    {
     "data": {
      "image/png": "[encoded data removed]",
      "text/plain": [
       "<Figure size 432x288 with 1 Axes>"
      ]
     },
     "metadata": {
      "tags": []
     },
     "output_type": "display_data"
    }
   ],
   "source": [
    "sns.set()\n",
    "plt.plot(history_1.history['auroc'], 'r')\n",
    "plt.plot(history_1.history['val_auroc'], 'b')\n",
    "plt.legend({'Train ROCAUC': 'r', 'Test ROCAUC':'b'})\n",
    "plt.show()\n",
    "\n",
    "\n",
    "plt.plot(history_1.history['loss'], 'r')\n",
    "plt.plot(history_1.history['val_loss'], 'b')\n",
    "plt.legend({'Train Loss': 'r', 'Test Loss':'b'})\n",
    "plt.show()"
   ]
  },
  {
   "cell_type": "markdown",
   "metadata": {
    "colab": {},
    "colab_type": "code",
    "id": "zySEalj_RyDt"
   },
   "source": [
    "### AUC Score for Model 1 - 0.7630"
   ]
  }
 ],
 "metadata": {
  "accelerator": "GPU",
  "colab": {
   "collapsed_sections": [],
   "name": "Donors_Choose_Model_1.ipynb",
   "provenance": []
  },
  "kernelspec": {
   "display_name": "Python 3",
   "language": "python",
   "name": "python3"
  },
  "language_info": {
   "codemirror_mode": {
    "name": "ipython",
    "version": 3
   },
   "file_extension": ".py",
   "mimetype": "text/x-python",
   "name": "python",
   "nbconvert_exporter": "python",
   "pygments_lexer": "ipython3",
   "version": "3.7.1"
  }
 },
 "nbformat": 4,
 "nbformat_minor": 1
}
