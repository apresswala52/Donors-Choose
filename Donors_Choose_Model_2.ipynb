{
 "cells": [
  {
   "cell_type": "markdown",
   "metadata": {
    "colab_type": "text",
    "id": "3uxEHt2lRx5B"
   },
   "source": [
    "# Donors Choose - Model 2"
   ]
  },
  {
   "cell_type": "code",
   "execution_count": 1,
   "metadata": {
    "colab": {
     "base_uri": "https://localhost:8080/",
     "height": 34
    },
    "colab_type": "code",
    "id": "YPJ_eE6rRx5D",
    "outputId": "3bbd45d7-7c98-464a-d5da-ee9ef3595cc4"
   },
   "outputs": [
    {
     "name": "stderr",
     "output_type": "stream",
     "text": [
      "Using TensorFlow backend.\n"
     ]
    }
   ],
   "source": [
    "# importing required libraries\n",
    "import warnings\n",
    "warnings.filterwarnings(\"ignore\")\n",
    "import pandas as pd\n",
    "import numpy as np\n",
    "from keras.layers import Input, Embedding, LSTM, Dropout, BatchNormalization, Dense, concatenate, Flatten, Conv1D, MaxPool1D, LeakyReLU, ELU, SpatialDropout1D, MaxPooling1D, GlobalAveragePooling1D, GlobalMaxPooling1D\n",
    "from keras.preprocessing.text import Tokenizer, one_hot\n",
    "from keras.preprocessing.sequence import pad_sequences\n",
    "from keras.models import Model, load_model\n",
    "from keras.utils import np_utils\n",
    "from keras import regularizers\n",
    "from keras.optimizers import *\n",
    "from keras.callbacks import ModelCheckpoint, EarlyStopping, TensorBoard, ReduceLROnPlateau\n",
    "\n",
    "from sklearn.feature_extraction.text import TfidfVectorizer, CountVectorizer\n",
    "from sklearn.metrics import roc_auc_score\n",
    "from sklearn.model_selection import train_test_split\n",
    "\n",
    "import tensorflow as tf\n",
    "import matplotlib.pyplot as plt\n",
    "%matplotlib inline\n",
    "import re\n",
    "from tqdm import tqdm\n",
    "from sklearn.preprocessing import LabelEncoder\n",
    "import seaborn as sns\n",
    "import pickle\n",
    "from sklearn.preprocessing import StandardScaler\n",
    "from scipy.sparse import hstack"
   ]
  },
  {
   "cell_type": "code",
   "execution_count": 3,
   "metadata": {
    "colab": {
     "base_uri": "https://localhost:8080/",
     "height": 122
    },
    "colab_type": "code",
    "id": "tUlLAHBeR4nV",
    "outputId": "ba7d168d-9e21-4cda-d04b-731d04d4a939"
   },
   "outputs": [
    {
     "name": "stdout",
     "output_type": "stream",
     "text": [
      "Go to this URL in a browser: https://accounts.google.com/o/oauth2/auth?client_id=947318989803-6bn6qk8qdgf4n4g3pfee6491hc0brc4i.apps.googleusercontent.com&redirect_uri=urn%3Aietf%3Awg%3Aoauth%3A2.0%3Aoob&scope=email%20https%3A%2F%2Fwww.googleapis.com%2Fauth%2Fdocs.test%20https%3A%2F%2Fwww.googleapis.com%2Fauth%2Fdrive%20https%3A%2F%2Fwww.googleapis.com%2Fauth%2Fdrive.photos.readonly%20https%3A%2F%2Fwww.googleapis.com%2Fauth%2Fpeopleapi.readonly&response_type=code\n",
      "\n",
      "Enter your authorization code:\n",
      "··········\n",
      "Mounted at /content/drive\n"
     ]
    }
   ],
   "source": [
    "from google.colab import drive\n",
    "drive.mount('/content/drive')"
   ]
  },
  {
   "cell_type": "code",
   "execution_count": 4,
   "metadata": {
    "colab": {
     "base_uri": "https://localhost:8080/",
     "height": 683
    },
    "colab_type": "code",
    "id": "Bjnwb2kDRx5I",
    "outputId": "6c6bad75-b40a-41e7-f054-90c5d098b05d"
   },
   "outputs": [
    {
     "data": {
      "text/html": [
       "<div>\n",
       "<style scoped>\n",
       "    .dataframe tbody tr th:only-of-type {\n",
       "        vertical-align: middle;\n",
       "    }\n",
       "\n",
       "    .dataframe tbody tr th {\n",
       "        vertical-align: top;\n",
       "    }\n",
       "\n",
       "    .dataframe thead th {\n",
       "        text-align: right;\n",
       "    }\n",
       "</style>\n",
       "<table border=\"1\" class=\"dataframe\">\n",
       "  <thead>\n",
       "    <tr style=\"text-align: right;\">\n",
       "      <th></th>\n",
       "      <th>Unnamed: 0</th>\n",
       "      <th>Unnamed: 0.1</th>\n",
       "      <th>id</th>\n",
       "      <th>teacher_id</th>\n",
       "      <th>teacher_prefix</th>\n",
       "      <th>school_state</th>\n",
       "      <th>project_submitted_datetime</th>\n",
       "      <th>project_grade_category</th>\n",
       "      <th>project_subject_categories</th>\n",
       "      <th>project_subject_subcategories</th>\n",
       "      <th>project_title</th>\n",
       "      <th>project_essay_1</th>\n",
       "      <th>project_essay_2</th>\n",
       "      <th>project_essay_3</th>\n",
       "      <th>project_essay_4</th>\n",
       "      <th>project_resource_summary</th>\n",
       "      <th>teacher_number_of_previously_posted_projects</th>\n",
       "      <th>project_is_approved</th>\n",
       "      <th>essay</th>\n",
       "      <th>price</th>\n",
       "      <th>quantity</th>\n",
       "      <th>std_price</th>\n",
       "      <th>nrm_price</th>\n",
       "      <th>project_summary_numerical</th>\n",
       "    </tr>\n",
       "  </thead>\n",
       "  <tbody>\n",
       "    <tr>\n",
       "      <th>0</th>\n",
       "      <td>0</td>\n",
       "      <td>160221</td>\n",
       "      <td>p253737</td>\n",
       "      <td>c90749f5d961ff158d4b4d1e7dc665fc</td>\n",
       "      <td>mrs</td>\n",
       "      <td>in</td>\n",
       "      <td>2016-12-05 13:43:57</td>\n",
       "      <td>grades_prek_2</td>\n",
       "      <td>literacy_language</td>\n",
       "      <td>esl_literacy</td>\n",
       "      <td>educational support english learners home</td>\n",
       "      <td>My students are English learners that are work...</td>\n",
       "      <td>\\\"The limits of your language are the limits o...</td>\n",
       "      <td>NaN</td>\n",
       "      <td>NaN</td>\n",
       "      <td>My students need opportunities to practice beg...</td>\n",
       "      <td>0</td>\n",
       "      <td>0</td>\n",
       "      <td>students english learners working english seco...</td>\n",
       "      <td>154.60</td>\n",
       "      <td>23</td>\n",
       "      <td>-0.390533</td>\n",
       "      <td>0.015397</td>\n",
       "      <td>0</td>\n",
       "    </tr>\n",
       "    <tr>\n",
       "      <th>1</th>\n",
       "      <td>1</td>\n",
       "      <td>140945</td>\n",
       "      <td>p258326</td>\n",
       "      <td>897464ce9ddc600bced1151f324dd63a</td>\n",
       "      <td>mr</td>\n",
       "      <td>fl</td>\n",
       "      <td>2016-10-25 09:22:10</td>\n",
       "      <td>grades_6_8</td>\n",
       "      <td>history_civics_health_sports</td>\n",
       "      <td>civics_government_teamsports</td>\n",
       "      <td>wanted projector hungry learners</td>\n",
       "      <td>Our students arrive to our school eager to lea...</td>\n",
       "      <td>The projector we need for our school is very c...</td>\n",
       "      <td>NaN</td>\n",
       "      <td>NaN</td>\n",
       "      <td>My students need a projector to help with view...</td>\n",
       "      <td>7</td>\n",
       "      <td>1</td>\n",
       "      <td>students arrive school eager learn polite gene...</td>\n",
       "      <td>299.00</td>\n",
       "      <td>1</td>\n",
       "      <td>0.002396</td>\n",
       "      <td>0.029839</td>\n",
       "      <td>0</td>\n",
       "    </tr>\n",
       "    <tr>\n",
       "      <th>2</th>\n",
       "      <td>2</td>\n",
       "      <td>21895</td>\n",
       "      <td>p182444</td>\n",
       "      <td>3465aaf82da834c0582ebd0ef8040ca0</td>\n",
       "      <td>ms</td>\n",
       "      <td>az</td>\n",
       "      <td>2016-08-31 12:03:56</td>\n",
       "      <td>grades_6_8</td>\n",
       "      <td>health_sports</td>\n",
       "      <td>health_wellness_teamsports</td>\n",
       "      <td>soccer equipment awesome middle school students</td>\n",
       "      <td>\\r\\n\\\"True champions aren't always the ones th...</td>\n",
       "      <td>The students on the campus come to school know...</td>\n",
       "      <td>NaN</td>\n",
       "      <td>NaN</td>\n",
       "      <td>My students need shine guards, athletic socks,...</td>\n",
       "      <td>1</td>\n",
       "      <td>0</td>\n",
       "      <td>true champions not always ones win guts mia ha...</td>\n",
       "      <td>516.85</td>\n",
       "      <td>22</td>\n",
       "      <td>0.595191</td>\n",
       "      <td>0.051628</td>\n",
       "      <td>0</td>\n",
       "    </tr>\n",
       "    <tr>\n",
       "      <th>3</th>\n",
       "      <td>3</td>\n",
       "      <td>45</td>\n",
       "      <td>p246581</td>\n",
       "      <td>f3cb9bffbba169bef1a77b243e620b60</td>\n",
       "      <td>mrs</td>\n",
       "      <td>ky</td>\n",
       "      <td>2016-10-06 21:16:17</td>\n",
       "      <td>grades_prek_2</td>\n",
       "      <td>literacy_language_math_science</td>\n",
       "      <td>literacy_mathematics</td>\n",
       "      <td>techie kindergarteners</td>\n",
       "      <td>I work at a unique school filled with both ESL...</td>\n",
       "      <td>My students live in high poverty conditions wi...</td>\n",
       "      <td>NaN</td>\n",
       "      <td>NaN</td>\n",
       "      <td>My students need to engage in Reading and Math...</td>\n",
       "      <td>4</td>\n",
       "      <td>1</td>\n",
       "      <td>work unique school filled esl english second l...</td>\n",
       "      <td>232.90</td>\n",
       "      <td>4</td>\n",
       "      <td>-0.177469</td>\n",
       "      <td>0.023228</td>\n",
       "      <td>0</td>\n",
       "    </tr>\n",
       "    <tr>\n",
       "      <th>4</th>\n",
       "      <td>4</td>\n",
       "      <td>172407</td>\n",
       "      <td>p104768</td>\n",
       "      <td>be1f7507a41f8479dc06f047086a39ec</td>\n",
       "      <td>mrs</td>\n",
       "      <td>tx</td>\n",
       "      <td>2016-07-11 01:10:09</td>\n",
       "      <td>grades_prek_2</td>\n",
       "      <td>math_science</td>\n",
       "      <td>mathematics</td>\n",
       "      <td>interactive math tools</td>\n",
       "      <td>Our second grade classroom next year will be m...</td>\n",
       "      <td>For many students, math is a subject that does...</td>\n",
       "      <td>NaN</td>\n",
       "      <td>NaN</td>\n",
       "      <td>My students need hands on practice in mathemat...</td>\n",
       "      <td>1</td>\n",
       "      <td>1</td>\n",
       "      <td>second grade classroom next year made around 2...</td>\n",
       "      <td>67.98</td>\n",
       "      <td>4</td>\n",
       "      <td>-0.626236</td>\n",
       "      <td>0.006733</td>\n",
       "      <td>0</td>\n",
       "    </tr>\n",
       "  </tbody>\n",
       "</table>\n",
       "</div>"
      ],
      "text/plain": [
       "   Unnamed: 0  Unnamed: 0.1  ... nrm_price project_summary_numerical\n",
       "0           0        160221  ...  0.015397                         0\n",
       "1           1        140945  ...  0.029839                         0\n",
       "2           2         21895  ...  0.051628                         0\n",
       "3           3            45  ...  0.023228                         0\n",
       "4           4        172407  ...  0.006733                         0\n",
       "\n",
       "[5 rows x 24 columns]"
      ]
     },
     "execution_count": 4,
     "metadata": {
      "tags": []
     },
     "output_type": "execute_result"
    }
   ],
   "source": [
    "# reading datasets\n",
    "project_data = pd.read_csv(\"drive/My Drive/ML_data/preprocessed_data.csv\")\n",
    "project_data.head()"
   ]
  },
  {
   "cell_type": "code",
   "execution_count": 5,
   "metadata": {
    "colab": {
     "base_uri": "https://localhost:8080/",
     "height": 68
    },
    "colab_type": "code",
    "id": "CwRQqVzjRx5O",
    "outputId": "ee4a28f6-363e-4c98-f61d-4d17455a93aa"
   },
   "outputs": [
    {
     "data": {
      "text/plain": [
       "1    92706\n",
       "0    16542\n",
       "Name: project_is_approved, dtype: int64"
      ]
     },
     "execution_count": 5,
     "metadata": {
      "tags": []
     },
     "output_type": "execute_result"
    }
   ],
   "source": [
    "project_data[\"project_is_approved\"].value_counts()"
   ]
  },
  {
   "cell_type": "code",
   "execution_count": 6,
   "metadata": {
    "colab": {
     "base_uri": "https://localhost:8080/",
     "height": 170
    },
    "colab_type": "code",
    "id": "O1X_5TYZRx5T",
    "outputId": "88cf66bd-31bf-4ad6-c5d2-c469eca60ad4"
   },
   "outputs": [
    {
     "data": {
      "text/plain": [
       "Index(['Unnamed: 0', 'Unnamed: 0.1', 'id', 'teacher_id', 'teacher_prefix',\n",
       "       'school_state', 'project_submitted_datetime', 'project_grade_category',\n",
       "       'project_subject_categories', 'project_subject_subcategories',\n",
       "       'project_title', 'project_essay_1', 'project_essay_2',\n",
       "       'project_essay_3', 'project_essay_4', 'project_resource_summary',\n",
       "       'teacher_number_of_previously_posted_projects', 'project_is_approved',\n",
       "       'essay', 'price', 'quantity', 'std_price', 'nrm_price',\n",
       "       'project_summary_numerical'],\n",
       "      dtype='object')"
      ]
     },
     "execution_count": 6,
     "metadata": {
      "tags": []
     },
     "output_type": "execute_result"
    }
   ],
   "source": [
    "project_data.columns"
   ]
  },
  {
   "cell_type": "code",
   "execution_count": 7,
   "metadata": {
    "colab": {
     "base_uri": "https://localhost:8080/",
     "height": 442
    },
    "colab_type": "code",
    "id": "RvOFOJfMRx5Y",
    "outputId": "865eff7f-c5f1-4c01-df52-45e8407b0ff7"
   },
   "outputs": [
    {
     "data": {
      "text/plain": [
       "Unnamed: 0                                           0\n",
       "Unnamed: 0.1                                         0\n",
       "id                                                   0\n",
       "teacher_id                                           0\n",
       "teacher_prefix                                       0\n",
       "school_state                                         0\n",
       "project_submitted_datetime                           0\n",
       "project_grade_category                               0\n",
       "project_subject_categories                           0\n",
       "project_subject_subcategories                        0\n",
       "project_title                                       43\n",
       "project_essay_1                                      0\n",
       "project_essay_2                                      0\n",
       "project_essay_3                                 105490\n",
       "project_essay_4                                 105490\n",
       "project_resource_summary                             0\n",
       "teacher_number_of_previously_posted_projects         0\n",
       "project_is_approved                                  0\n",
       "essay                                                0\n",
       "price                                                0\n",
       "quantity                                             0\n",
       "std_price                                            0\n",
       "nrm_price                                            0\n",
       "project_summary_numerical                            0\n",
       "dtype: int64"
      ]
     },
     "execution_count": 7,
     "metadata": {
      "tags": []
     },
     "output_type": "execute_result"
    }
   ],
   "source": [
    "# checking for null values\n",
    "project_data.isnull().sum()"
   ]
  },
  {
   "cell_type": "code",
   "execution_count": 0,
   "metadata": {
    "colab": {},
    "colab_type": "code",
    "id": "DtYhSWb1Rx5f"
   },
   "outputs": [],
   "source": [
    "# filling the null values with ''\n",
    "project_data['project_title'] = project_data['project_title'].fillna('')"
   ]
  },
  {
   "cell_type": "code",
   "execution_count": 0,
   "metadata": {
    "colab": {},
    "colab_type": "code",
    "id": "P0ZLp10cRx5k"
   },
   "outputs": [],
   "source": [
    "# combining essay and project_title columns\n",
    "project_data['cleaned_text'] = project_data['essay'] + project_data['project_title']"
   ]
  },
  {
   "cell_type": "code",
   "execution_count": 0,
   "metadata": {
    "colab": {},
    "colab_type": "code",
    "id": "k2Gv7EP7Rx5p"
   },
   "outputs": [],
   "source": [
    "# dropping unecessary columns\n",
    "project_data = project_data.drop(['Unnamed: 0', 'Unnamed: 0.1', 'id', 'teacher_id', 'project_submitted_datetime', \n",
    "                                  'project_resource_summary', 'std_price', 'nrm_price', 'project_essay_1', 'project_essay_2', \n",
    "                                  'project_essay_3', 'project_essay_4', 'essay', 'project_title'], axis=1)"
   ]
  },
  {
   "cell_type": "code",
   "execution_count": 11,
   "metadata": {
    "colab": {
     "base_uri": "https://localhost:8080/",
     "height": 102
    },
    "colab_type": "code",
    "id": "HbhF48wZRx5u",
    "outputId": "3f28a28a-5da0-43f0-987a-0c977271c19a"
   },
   "outputs": [
    {
     "data": {
      "text/plain": [
       "Index(['teacher_prefix', 'school_state', 'project_grade_category',\n",
       "       'project_subject_categories', 'project_subject_subcategories',\n",
       "       'teacher_number_of_previously_posted_projects', 'project_is_approved',\n",
       "       'price', 'quantity', 'project_summary_numerical', 'cleaned_text'],\n",
       "      dtype='object')"
      ]
     },
     "execution_count": 11,
     "metadata": {
      "tags": []
     },
     "output_type": "execute_result"
    }
   ],
   "source": [
    "# columns left after dropping unecessary columns\n",
    "project_data.columns"
   ]
  },
  {
   "cell_type": "code",
   "execution_count": 0,
   "metadata": {
    "colab": {},
    "colab_type": "code",
    "id": "sHWDzvt9Rx50"
   },
   "outputs": [],
   "source": [
    "target = project_data['project_is_approved']\n",
    "features = project_data.drop(['project_is_approved'], axis=1)"
   ]
  },
  {
   "cell_type": "code",
   "execution_count": 0,
   "metadata": {
    "colab": {},
    "colab_type": "code",
    "id": "eKoMQkxQRx55"
   },
   "outputs": [],
   "source": [
    "# splitting the dataset into train(75%) and test(25%) set\n",
    "X_train, X_test, y_train, y_test = train_test_split(features, target, stratify=target, test_size=0.25, random_state=123)"
   ]
  },
  {
   "cell_type": "code",
   "execution_count": 14,
   "metadata": {
    "colab": {
     "base_uri": "https://localhost:8080/",
     "height": 51
    },
    "colab_type": "code",
    "id": "2xgW9G5hRx6C",
    "outputId": "880de2c0-1364-4bcd-988c-9e5f58a048af"
   },
   "outputs": [
    {
     "name": "stdout",
     "output_type": "stream",
     "text": [
      "Shape of Train data (81936, 10)\n",
      "Shape of Test data (27312, 10)\n"
     ]
    }
   ],
   "source": [
    "print('Shape of Train data', X_train.shape)\n",
    "print('Shape of Test data', X_test.shape)"
   ]
  },
  {
   "cell_type": "markdown",
   "metadata": {
    "colab_type": "text",
    "id": "sNIDi36GRx6Q"
   },
   "source": [
    "**Filtering Text Data (essays & project_title) based on idf values**"
   ]
  },
  {
   "cell_type": "code",
   "execution_count": 0,
   "metadata": {
    "colab": {},
    "colab_type": "code",
    "id": "k9wWRx9QRx6Y"
   },
   "outputs": [],
   "source": [
    "tfidf = TfidfVectorizer()\n",
    "combine_tfidf = tfidf.fit_transform(X_train['cleaned_text'])\n",
    "\n",
    "# converting to dictionary\n",
    "combine_dict = dict(zip(tfidf.get_feature_names(),list(tfidf.idf_)))"
   ]
  },
  {
   "cell_type": "code",
   "execution_count": 0,
   "metadata": {
    "colab": {},
    "colab_type": "code",
    "id": "LmZdLzU2Rx6w"
   },
   "outputs": [],
   "source": [
    "tfidf_df = pd.DataFrame(list(combine_dict.items()), columns=['Words', 'IDF Values'])\n",
    "tfidf_df = tfidf_df.sort_values(by ='IDF Values' )"
   ]
  },
  {
   "cell_type": "code",
   "execution_count": 17,
   "metadata": {
    "colab": {
     "base_uri": "https://localhost:8080/",
     "height": 51
    },
    "colab_type": "code",
    "id": "Ipll4kuURx6-",
    "outputId": "eb89ad57-33a1-4df8-c55e-f0909801dc1a"
   },
   "outputs": [
    {
     "name": "stdout",
     "output_type": "stream",
     "text": [
      "1.0074234116042697\n",
      "11.62055875771544\n"
     ]
    }
   ],
   "source": [
    "# finding the min & max idf values\n",
    "print(tfidf_df['IDF Values'].min())\n",
    "print(tfidf_df['IDF Values'].max())"
   ]
  },
  {
   "cell_type": "code",
   "execution_count": 18,
   "metadata": {
    "colab": {
     "base_uri": "https://localhost:8080/",
     "height": 34
    },
    "colab_type": "code",
    "id": "BU2eJIlyRx7M",
    "outputId": "da0d36d1-4b62-4218-8243-82ed78d74abf"
   },
   "outputs": [
    {
     "data": {
      "text/plain": [
       "(27769, 2)"
      ]
     },
     "execution_count": 18,
     "metadata": {
      "tags": []
     },
     "output_type": "execute_result"
    }
   ],
   "source": [
    "# based on the idf values we prepare the corpus, thereby leaving the words with lower idf value than 2 and greater than 11\n",
    "corpus = tfidf_df[(tfidf_df['IDF Values'] >= 2) & (tfidf_df['IDF Values'] <=11 )]\n",
    "corpus.shape"
   ]
  },
  {
   "cell_type": "code",
   "execution_count": 19,
   "metadata": {
    "colab": {
     "base_uri": "https://localhost:8080/",
     "height": 187
    },
    "colab_type": "code",
    "id": "18gpfrjXRx7f",
    "outputId": "ead4fa20-4598-4f48-acb6-fd9362c2bea2"
   },
   "outputs": [
    {
     "data": {
      "text/plain": [
       "['new',\n",
       " 'year',\n",
       " 'one',\n",
       " 'would',\n",
       " 'time',\n",
       " 'student',\n",
       " 'want',\n",
       " 'skills',\n",
       " 'grade',\n",
       " 'reading']"
      ]
     },
     "execution_count": 19,
     "metadata": {
      "tags": []
     },
     "output_type": "execute_result"
    }
   ],
   "source": [
    "vocab = corpus[\"Words\"].tolist()\n",
    "vocab[:10]"
   ]
  },
  {
   "cell_type": "markdown",
   "metadata": {
    "colab_type": "text",
    "id": "15XLMpGbRx7x"
   },
   "source": [
    "**Tokenizing the Text**"
   ]
  },
  {
   "cell_type": "code",
   "execution_count": 0,
   "metadata": {
    "colab": {},
    "colab_type": "code",
    "id": "LxQ4F2_XRx70"
   },
   "outputs": [],
   "source": [
    "# convert the sentences (strings) into integers\n",
    "tokenizer = Tokenizer()\n",
    "tokenizer.fit_on_texts(vocab)\n",
    "sequences_train = tokenizer.texts_to_sequences(X_train['cleaned_text'])\n",
    "sequences_test = tokenizer.texts_to_sequences(X_test['cleaned_text'])"
   ]
  },
  {
   "cell_type": "code",
   "execution_count": 21,
   "metadata": {
    "colab": {
     "base_uri": "https://localhost:8080/",
     "height": 34
    },
    "colab_type": "code",
    "id": "y-YKt4LuRx8G",
    "outputId": "3e6dbcf1-68d8-4b55-cd62-68194702ff7f"
   },
   "outputs": [
    {
     "name": "stdout",
     "output_type": "stream",
     "text": [
      "Found 27769 unique tokens.\n"
     ]
    }
   ],
   "source": [
    "# get word -> integer mapping\n",
    "word2idx = tokenizer.word_index\n",
    "print('Found %s unique tokens.' % len(word2idx))"
   ]
  },
  {
   "cell_type": "markdown",
   "metadata": {
    "colab_type": "text",
    "id": "xNXd7b9lRx8f"
   },
   "source": [
    "**Padding the sequences**"
   ]
  },
  {
   "cell_type": "markdown",
   "metadata": {
    "colab_type": "text",
    "id": "Xm5e4eWFRx8g"
   },
   "source": [
    "The sequences have different lengths and Keras prefers inputs to be vectorized and all inputs to have the same length. \n",
    "We will pad all input sequences to have the length of 250"
   ]
  },
  {
   "cell_type": "code",
   "execution_count": 22,
   "metadata": {
    "colab": {
     "base_uri": "https://localhost:8080/",
     "height": 34
    },
    "colab_type": "code",
    "id": "457nWHSTRx8j",
    "outputId": "56804777-5a23-4875-bb56-e5b25dbb2448"
   },
   "outputs": [
    {
     "name": "stdout",
     "output_type": "stream",
     "text": [
      "Shape of data tensor: (81936, 250)\n"
     ]
    }
   ],
   "source": [
    "encoded_train = pad_sequences(sequences_train, maxlen=250, padding='post', truncating='post')\n",
    "print('Shape of data tensor:', encoded_train.shape)"
   ]
  },
  {
   "cell_type": "code",
   "execution_count": 23,
   "metadata": {
    "colab": {
     "base_uri": "https://localhost:8080/",
     "height": 34
    },
    "colab_type": "code",
    "id": "dtD1FSfERx9B",
    "outputId": "55f7b028-9339-4bdc-814a-4ede748a501f"
   },
   "outputs": [
    {
     "name": "stdout",
     "output_type": "stream",
     "text": [
      "Shape of data tensor: (27312, 250)\n"
     ]
    }
   ],
   "source": [
    "encoded_test = pad_sequences(sequences_test, maxlen=250,padding='post', truncating='post')\n",
    "print('Shape of data tensor:', encoded_test.shape)"
   ]
  },
  {
   "cell_type": "markdown",
   "metadata": {
    "colab_type": "text",
    "id": "FfhB6e54Rx9K"
   },
   "source": [
    "**Getting the vector representation using Glove vectors**"
   ]
  },
  {
   "cell_type": "code",
   "execution_count": 0,
   "metadata": {
    "colab": {},
    "colab_type": "code",
    "id": "w5F0VaCERx9N"
   },
   "outputs": [],
   "source": [
    "# Loading Embedding File\n",
    "pickle_in = open('drive/My Drive/ML_data/glove_vectors','rb')\n",
    "glove_words = pickle.load(pickle_in)"
   ]
  },
  {
   "cell_type": "code",
   "execution_count": 0,
   "metadata": {
    "colab": {},
    "colab_type": "code",
    "id": "y9ibo_7wRx9w"
   },
   "outputs": [],
   "source": [
    "num_words = len(word2idx) + 1\n",
    "embedding_matrix = np.zeros((num_words, 300))\n",
    "for word, i in word2idx.items():\n",
    "    if i < len(vocab):\n",
    "        embedding_vector = glove_words.get(word)\n",
    "        if embedding_vector is not None:\n",
    "          # words not found in embedding index will be all zeros.\n",
    "          embedding_matrix[i] = embedding_vector"
   ]
  },
  {
   "cell_type": "code",
   "execution_count": 26,
   "metadata": {
    "colab": {
     "base_uri": "https://localhost:8080/",
     "height": 68
    },
    "colab_type": "code",
    "id": "ThjkpQymRx99",
    "outputId": "20057e93-f35c-40a5-9af4-e827cec39a5e"
   },
   "outputs": [
    {
     "name": "stdout",
     "output_type": "stream",
     "text": [
      "27770\n",
      "--------------\n",
      "(27770, 300)\n"
     ]
    }
   ],
   "source": [
    "print(num_words)\n",
    "print('--------------')\n",
    "print(embedding_matrix.shape)"
   ]
  },
  {
   "cell_type": "markdown",
   "metadata": {
    "colab_type": "text",
    "id": "z4_kJjjVRx-K"
   },
   "source": [
    "**Vectorizing all the categorical features using CountVectorizer**"
   ]
  },
  {
   "cell_type": "code",
   "execution_count": 0,
   "metadata": {
    "colab": {},
    "colab_type": "code",
    "id": "_Ba_ZQz0Rx-M"
   },
   "outputs": [],
   "source": [
    "vect = CountVectorizer(binary=True)\n",
    "\n",
    "train_prefix = vect.fit_transform(X_train[\"teacher_prefix\"])\n",
    "test_prefix = vect.transform(X_test[\"teacher_prefix\"])"
   ]
  },
  {
   "cell_type": "code",
   "execution_count": 0,
   "metadata": {
    "colab": {},
    "colab_type": "code",
    "id": "IEg1gJEaRx-S"
   },
   "outputs": [],
   "source": [
    "vect = CountVectorizer(binary=True)\n",
    "\n",
    "train_state = vect.fit_transform(X_train[\"school_state\"])\n",
    "test_state = vect.transform(X_test[\"school_state\"])"
   ]
  },
  {
   "cell_type": "code",
   "execution_count": 0,
   "metadata": {
    "colab": {},
    "colab_type": "code",
    "id": "FNo47vTmRx-Z"
   },
   "outputs": [],
   "source": [
    "vect = CountVectorizer(binary=True)\n",
    "\n",
    "train_grade = vect.fit_transform(X_train[\"project_grade_category\"])\n",
    "test_grade = vect.transform(X_test[\"project_grade_category\"])"
   ]
  },
  {
   "cell_type": "code",
   "execution_count": 0,
   "metadata": {
    "colab": {},
    "colab_type": "code",
    "id": "_xCF7BFyRx-m"
   },
   "outputs": [],
   "source": [
    "vect = CountVectorizer(binary=True)\n",
    "\n",
    "train_subcat = vect.fit_transform(X_train[\"project_subject_categories\"])\n",
    "test_subcat = vect.transform(X_test[\"project_subject_categories\"])"
   ]
  },
  {
   "cell_type": "code",
   "execution_count": 0,
   "metadata": {
    "colab": {},
    "colab_type": "code",
    "id": "jUhVbBWdRx_C"
   },
   "outputs": [],
   "source": [
    "vect = CountVectorizer(binary=True)\n",
    "\n",
    "train_subcat_1 = vect.fit_transform(X_train[\"project_subject_subcategories\"])\n",
    "test_subcat_1 = vect.transform(X_test[\"project_subject_subcategories\"])"
   ]
  },
  {
   "cell_type": "markdown",
   "metadata": {
    "colab_type": "text",
    "id": "mxsxKFFfRx_Z"
   },
   "source": [
    "**Reshaping & Standardizing numerical features**"
   ]
  },
  {
   "cell_type": "code",
   "execution_count": 0,
   "metadata": {
    "colab": {},
    "colab_type": "code",
    "id": "_QRPax6ERx_b"
   },
   "outputs": [],
   "source": [
    "num_train_1=X_train['project_summary_numerical'].values.reshape(-1, 1)\n",
    "num_train_2=X_train['price'].values.reshape(-1, 1)\n",
    "num_train_3=X_train['quantity'].values.reshape(-1, 1)\n",
    "num_train_4=X_train['teacher_number_of_previously_posted_projects'].values.reshape(-1, 1)\n",
    "\n",
    "num_test_1=X_test['project_summary_numerical'].values.reshape(-1, 1)\n",
    "num_test_2=X_test['price'].values.reshape(-1, 1)\n",
    "num_test_3=X_test['quantity'].values.reshape(-1, 1)\n",
    "num_test_4=X_test['teacher_number_of_previously_posted_projects'].values.reshape(-1, 1)"
   ]
  },
  {
   "cell_type": "code",
   "execution_count": 0,
   "metadata": {
    "colab": {},
    "colab_type": "code",
    "id": "a2kTxZASRx_o"
   },
   "outputs": [],
   "source": [
    "# concatenating train numerical features\n",
    "num_train=np.concatenate((num_train_1,num_train_2,num_train_3,num_train_4),axis=1)\n",
    "\n",
    "# concatenating test numerical features\n",
    "num_test=np.concatenate((num_test_1,num_test_2,num_test_3,num_test_4),axis=1)\n",
    "\n",
    "# Standardizing the features\n",
    "norm=StandardScaler()\n",
    "norm_train=norm.fit_transform(num_train)\n",
    "norm_test=norm.transform(num_test)"
   ]
  },
  {
   "cell_type": "code",
   "execution_count": 0,
   "metadata": {
    "colab": {},
    "colab_type": "code",
    "id": "pdiTYTIjRx_w"
   },
   "outputs": [],
   "source": [
    "# concatencating categorical features\n",
    "cat_train = hstack([train_prefix,train_state,train_grade,train_subcat,train_subcat_1]).todense()\n",
    "cat_test = hstack([test_prefix,test_state,test_grade,test_subcat,test_subcat_1]).todense()"
   ]
  },
  {
   "cell_type": "code",
   "execution_count": 0,
   "metadata": {
    "colab": {},
    "colab_type": "code",
    "id": "rA0WoWBbRx_9"
   },
   "outputs": [],
   "source": [
    "# concatenating the numerical & categorical features\n",
    "all_train = np.hstack((cat_train,norm_train))\n",
    "all_test = np.hstack((cat_test,norm_test))"
   ]
  },
  {
   "cell_type": "code",
   "execution_count": 0,
   "metadata": {
    "colab": {},
    "colab_type": "code",
    "id": "sjI9fjd6RyAS"
   },
   "outputs": [],
   "source": [
    "final_train = np.expand_dims(all_train,2)\n",
    "final_test = np.expand_dims(all_test,2)"
   ]
  },
  {
   "cell_type": "code",
   "execution_count": 37,
   "metadata": {
    "colab": {
     "base_uri": "https://localhost:8080/",
     "height": 68
    },
    "colab_type": "code",
    "id": "fF2SHbf7RyAc",
    "outputId": "189ab8d8-604c-48f7-96f4-785ebd87db9b"
   },
   "outputs": [
    {
     "name": "stdout",
     "output_type": "stream",
     "text": [
      "(81936, 512, 1)\n",
      "----------------\n",
      "(27312, 512, 1)\n"
     ]
    }
   ],
   "source": [
    "print(final_train.shape)\n",
    "print('----------------')\n",
    "print(final_test.shape)"
   ]
  },
  {
   "cell_type": "markdown",
   "metadata": {
    "colab_type": "text",
    "id": "GapQXIB2RyAj"
   },
   "source": [
    "## Defining model architecture"
   ]
  },
  {
   "cell_type": "code",
   "execution_count": 38,
   "metadata": {
    "colab": {
     "base_uri": "https://localhost:8080/",
     "height": 258
    },
    "colab_type": "code",
    "id": "W8jlxZhvRyAs",
    "outputId": "f37587ad-4f0c-4b99-cb07-0e4ac4df5520"
   },
   "outputs": [
    {
     "name": "stdout",
     "output_type": "stream",
     "text": [
      "WARNING:tensorflow:From /usr/local/lib/python3.6/dist-packages/keras/backend/tensorflow_backend.py:66: The name tf.get_default_graph is deprecated. Please use tf.compat.v1.get_default_graph instead.\n",
      "\n",
      "WARNING:tensorflow:From /usr/local/lib/python3.6/dist-packages/keras/backend/tensorflow_backend.py:541: The name tf.placeholder is deprecated. Please use tf.compat.v1.placeholder instead.\n",
      "\n",
      "WARNING:tensorflow:From /usr/local/lib/python3.6/dist-packages/keras/backend/tensorflow_backend.py:4432: The name tf.random_uniform is deprecated. Please use tf.random.uniform instead.\n",
      "\n",
      "WARNING:tensorflow:From /usr/local/lib/python3.6/dist-packages/keras/backend/tensorflow_backend.py:190: The name tf.get_default_session is deprecated. Please use tf.compat.v1.get_default_session instead.\n",
      "\n",
      "WARNING:tensorflow:From /usr/local/lib/python3.6/dist-packages/keras/backend/tensorflow_backend.py:197: The name tf.ConfigProto is deprecated. Please use tf.compat.v1.ConfigProto instead.\n",
      "\n",
      "WARNING:tensorflow:From /usr/local/lib/python3.6/dist-packages/keras/backend/tensorflow_backend.py:3733: calling dropout (from tensorflow.python.ops.nn_ops) with keep_prob is deprecated and will be removed in a future version.\n",
      "Instructions for updating:\n",
      "Please use `rate` instead of `keep_prob`. Rate should be set to `rate = 1 - keep_prob`.\n"
     ]
    }
   ],
   "source": [
    "# load pre-trained word embeddings into an Embedding layer\n",
    "# note that we set trainable = False so as to keep the embeddings of fixed sized\n",
    "embedding_layer = Embedding(\n",
    "  num_words,\n",
    "  300,\n",
    "  weights=[embedding_matrix],\n",
    "  input_length=250,\n",
    "  trainable=False\n",
    ")\n",
    "input_text = Input(shape=(250,),name=\"input_text\")\n",
    "x = embedding_layer(input_text)\n",
    "x = LSTM(100,recurrent_dropout=0.5,kernel_regularizer=regularizers.l2(0.001),return_sequences=True)(x)\n",
    "flatten_1 = Flatten()(x)"
   ]
  },
  {
   "cell_type": "code",
   "execution_count": 39,
   "metadata": {
    "colab": {
     "base_uri": "https://localhost:8080/",
     "height": 34
    },
    "colab_type": "code",
    "id": "nJvmJIZdRyA6",
    "outputId": "0df85341-79fb-4396-cee3-06de1c03354c"
   },
   "outputs": [
    {
     "name": "stdout",
     "output_type": "stream",
     "text": [
      "Unique Categories: 5 Embedding Size: 3\n"
     ]
    }
   ],
   "source": [
    "# Now will prepare all the remaining categorical features\n",
    "# Teacher Prefix\n",
    "no_of_unique_prefix  = X_train[\"teacher_prefix\"].nunique()\n",
    "embedding_size_prefix = int(min(np.ceil((no_of_unique_prefix)/2), 50 ))\n",
    "print('Unique Categories:', no_of_unique_prefix, 'Embedding Size:', embedding_size_prefix)\n",
    "\n",
    "\n",
    "# Defining Input and Embedding Layer for the same\n",
    "\n",
    "input_prefix = Input(shape=(1,), name=\"teacher_prefix\")\n",
    "embedding_prefix = Embedding(no_of_unique_prefix, embedding_size_prefix, name=\"emb_pre\", trainable=True)(input_prefix)\n",
    "flatten_2 = Flatten()(embedding_prefix)\n",
    "\n",
    "lb = LabelEncoder()\n",
    "encoder_prefix_train = lb.fit_transform(X_train[\"teacher_prefix\"])\n",
    "encoder_prefix_test = lb.transform(X_test[\"teacher_prefix\"])"
   ]
  },
  {
   "cell_type": "code",
   "execution_count": 40,
   "metadata": {
    "colab": {
     "base_uri": "https://localhost:8080/",
     "height": 34
    },
    "colab_type": "code",
    "id": "VgYCJzwtRyBS",
    "outputId": "aa7b72b6-f198-4743-e28c-e2e943ecaa78"
   },
   "outputs": [
    {
     "name": "stdout",
     "output_type": "stream",
     "text": [
      "Unique Categories: 51 Embedding Size: 26\n"
     ]
    }
   ],
   "source": [
    "# School State\n",
    "no_of_unique_state  = X_train[\"school_state\"].nunique()\n",
    "embedding_size_state= int(min(np.ceil((no_of_unique_state)/2), 50 ))\n",
    "print('Unique Categories:', no_of_unique_state, 'Embedding Size:', embedding_size_state)\n",
    "\n",
    "\n",
    "# Defining Input and Embedding Layer for the same\n",
    "\n",
    "input_state = Input(shape=(1,), name=\"school_prefix\")\n",
    "embedding_state = Embedding(no_of_unique_state, embedding_size_state, name=\"emb_state\", trainable=True)(input_state)\n",
    "flatten_3 = Flatten()(embedding_state)\n",
    "\n",
    "\n",
    "encoder_state_train = lb.fit_transform(X_train[\"school_state\"])\n",
    "# encoder_state_cv = lb.transform(X_cv[\"school_state\"])\n",
    "encoder_state_test = lb.transform(X_test[\"school_state\"])"
   ]
  },
  {
   "cell_type": "code",
   "execution_count": 41,
   "metadata": {
    "colab": {
     "base_uri": "https://localhost:8080/",
     "height": 34
    },
    "colab_type": "code",
    "id": "KgYrb8u_RyBl",
    "outputId": "4312fba8-32a7-49ac-b6ee-ef5481096f06"
   },
   "outputs": [
    {
     "name": "stdout",
     "output_type": "stream",
     "text": [
      "Unique Categories: 4 Embedding Size: 2\n"
     ]
    }
   ],
   "source": [
    "# For project_grade_category\n",
    "no_of_unique_grade  = X_train[\"project_grade_category\"].nunique()\n",
    "embedding_size_grade = int(min(np.ceil((no_of_unique_grade)/2), 50 ))\n",
    "print('Unique Categories:', no_of_unique_grade, 'Embedding Size:', embedding_size_grade)\n",
    "\n",
    "\n",
    "# Defining Input and Embedding Layer for the same\n",
    "\n",
    "input_grade= Input(shape=(1,),name=\"grade_cat\")\n",
    "embedding_grade = Embedding(no_of_unique_grade, embedding_size_grade, name=\"emb_grade\", trainable=True)(input_grade)\n",
    "flatten_4 = Flatten()(embedding_grade)\n",
    "\n",
    "\n",
    "encoder_grade_train = lb.fit_transform(X_train[\"project_grade_category\"])\n",
    "# encoder_grade_cv = lb.transform(X_cv[\"project_grade_category\"])\n",
    "encoder_grade_test = lb.transform(X_test[\"project_grade_category\"])"
   ]
  },
  {
   "cell_type": "code",
   "execution_count": 42,
   "metadata": {
    "colab": {
     "base_uri": "https://localhost:8080/",
     "height": 34
    },
    "colab_type": "code",
    "id": "LkWkYFyDRyBu",
    "outputId": "2c3b0c08-76db-4c79-b22d-135f664f1a8f"
   },
   "outputs": [
    {
     "name": "stdout",
     "output_type": "stream",
     "text": [
      "Unique Categories: 51 Embedding Size: 26\n"
     ]
    }
   ],
   "source": [
    "# For project_subject_categories\n",
    "no_of_unique_subcat  = X_train[\"project_subject_categories\"].nunique()\n",
    "embedding_size_subcat = int(min(np.ceil((no_of_unique_subcat)/2), 50 ))\n",
    "print('Unique Categories:', no_of_unique_subcat,'Embedding Size:', embedding_size_subcat)\n",
    "\n",
    "\n",
    "# Defining Input and Embedding Layer for the same\n",
    "\n",
    "input_subcat= Input(shape=(1,),name=\"sub_cat\")\n",
    "embedding_subcat = Embedding(no_of_unique_subcat,embedding_size_subcat,name=\"emb_subcat\",trainable=True)(input_subcat)\n",
    "flatten_5 = Flatten()(embedding_subcat)\n",
    "\n",
    "le = LabelEncoder()\n",
    "le.fit(X_train[\"project_subject_categories\"])\n",
    "X_test[\"project_subject_categories\"] = X_test[\"project_subject_categories\"].map(lambda s: '<unknown>' if s not in le.classes_ else s)\n",
    "\n",
    "le.classes_ = np.append(le.classes_, '<unknown>')\n",
    "encoder_subcat_train = le.transform(X_train[\"project_subject_categories\"])\n",
    "encoder_subcat_test= le.transform(X_test[\"project_subject_categories\"])"
   ]
  },
  {
   "cell_type": "code",
   "execution_count": 43,
   "metadata": {
    "colab": {
     "base_uri": "https://localhost:8080/",
     "height": 34
    },
    "colab_type": "code",
    "id": "6XQDwI9ZRyB2",
    "outputId": "5d0de29d-e92d-46e5-f61f-70ac3d89a0db"
   },
   "outputs": [
    {
     "name": "stdout",
     "output_type": "stream",
     "text": [
      "Unique Categories: 397 Embedding Size: 50\n"
     ]
    }
   ],
   "source": [
    "# For project_subject_subcategories\n",
    "no_of_unique_subcat_1  = X_train[\"project_subject_subcategories\"].nunique()\n",
    "embedding_size_subcat_1 = int(min(np.ceil((no_of_unique_subcat_1)/2), 50 ))\n",
    "print('Unique Categories:', no_of_unique_subcat_1,'Embedding Size:', embedding_size_subcat_1)\n",
    "\n",
    "# Defining Input and Embedding Layer for the same\n",
    "\n",
    "input_subcat_1= Input(shape=(1,),name=\"sub_cat_1\")\n",
    "embedding_subcat_1 = Embedding(no_of_unique_subcat_1,embedding_size_subcat_1,name=\"emb_subcat_1\",trainable=True)(input_subcat_1)\n",
    "flatten_6 = Flatten()(embedding_subcat_1)\n",
    "\n",
    "\n",
    "le = LabelEncoder()\n",
    "le.fit(X_train[\"project_subject_subcategories\"])\n",
    "X_test[\"project_subject_subcategories\"] = X_test[\"project_subject_subcategories\"].map(lambda s: '<unknown>' if s not in le.classes_ else s)\n",
    "\n",
    "le.classes_ = np.append(le.classes_, '<unknown>')\n",
    "encoder_subcat_1_train = le.transform(X_train[\"project_subject_subcategories\"])\n",
    "encoder_subcat_1_test= le.transform(X_test[\"project_subject_subcategories\"])"
   ]
  },
  {
   "cell_type": "code",
   "execution_count": 0,
   "metadata": {
    "colab": {},
    "colab_type": "code",
    "id": "QGIB0t-FRyCL"
   },
   "outputs": [],
   "source": [
    "# Defining the Input and Embedding Layer for the same\n",
    "\n",
    "num_feats = Input(shape=(4,),name=\"numerical_features\")\n",
    "num_feats_ = Dense(100,activation=\"relu\",kernel_initializer=\"he_normal\")(num_feats)"
   ]
  },
  {
   "cell_type": "code",
   "execution_count": 45,
   "metadata": {
    "colab": {
     "base_uri": "https://localhost:8080/",
     "height": 34
    },
    "colab_type": "code",
    "id": "Po-PKkpIRyCS",
    "outputId": "630b01e9-e5ca-4992-df93-734674d31390"
   },
   "outputs": [
    {
     "name": "stdout",
     "output_type": "stream",
     "text": [
      "Building Model-2\n"
     ]
    }
   ],
   "source": [
    "print(\"Building Model-2\")\n",
    "x_concatenate = concatenate([flatten_1, flatten_2, flatten_3, flatten_4, flatten_5, flatten_6, num_feats_])\n",
    "\n",
    "x = Dense(128,activation=\"relu\", kernel_initializer=\"he_normal\",kernel_regularizer=regularizers.l2(0.001))(x_concatenate)\n",
    "\n",
    "x=Dropout(0.5)(x)\n",
    "\n",
    "x = Dense(256,activation=\"relu\",kernel_initializer=\"he_normal\",kernel_regularizer=regularizers.l2(0.001))(x)\n",
    "\n",
    "x=Dropout(0.5)(x)\n",
    "\n",
    "x = Dense(64,activation=\"relu\", kernel_initializer=\"he_normal\",kernel_regularizer=regularizers.l2(0.001))(x)\n",
    "\n",
    "output = Dense(2, activation='softmax', name='output')(x)\n",
    "model_2 = Model(inputs=[input_text, input_prefix, input_state, input_grade,\n",
    "                        input_subcat, input_subcat_1, num_feats],outputs=[output])"
   ]
  },
  {
   "cell_type": "code",
   "execution_count": 0,
   "metadata": {
    "colab": {},
    "colab_type": "code",
    "id": "Yf0A39WbRyCa"
   },
   "outputs": [],
   "source": [
    "train_data_2 = [encoded_train,encoder_prefix_train,encoder_state_train,\n",
    "              encoder_grade_train,encoder_subcat_train,encoder_subcat_1_train,norm_train]\n",
    "test_data_2 = [encoded_test,encoder_prefix_test,encoder_state_test,encoder_grade_test,\n",
    "             encoder_subcat_test,encoder_subcat_1_test,norm_test]\n",
    "\n",
    "Y_train = np_utils.to_categorical(y_train, 2) \n",
    "Y_test = np_utils.to_categorical(y_test, 2)"
   ]
  },
  {
   "cell_type": "code",
   "execution_count": 0,
   "metadata": {
    "colab": {},
    "colab_type": "code",
    "id": "KhPZbOWkRyCj"
   },
   "outputs": [],
   "source": [
    "checkpoint_2 = ModelCheckpoint(\"model_2.h5\",\n",
    "                             monitor=\"val_loss\",\n",
    "                             mode=\"min\",\n",
    "                             save_best_only = True,\n",
    "                             verbose=1)\n",
    "\n",
    "earlystop_2 = EarlyStopping(monitor = 'val_loss', \n",
    "                            mode=\"min\",\n",
    "                            min_delta = 0, \n",
    "                            patience = 5,\n",
    "                            verbose = 1,\n",
    "                            restore_best_weights = True)\n",
    "\n",
    "reduce_lr_2 = ReduceLROnPlateau(monitor = 'val_loss', factor = 0.2, patience = 2, verbose = 1, min_delta = 0.0001)\n",
    "\n",
    "tensorboard_2 = TensorBoard(log_dir='graph_2', histogram_freq=0, batch_size=512, write_graph=True, write_grads=False, write_images=False, embeddings_freq=0, embeddings_layer_names=None, embeddings_metadata=None, embeddings_data=None, update_freq='epoch')\n",
    "\n",
    "callbacks_2 = [checkpoint_2,earlystop_2,tensorboard_2,reduce_lr_2]"
   ]
  },
  {
   "cell_type": "code",
   "execution_count": 0,
   "metadata": {
    "colab": {},
    "colab_type": "code",
    "id": "LLQM-wOuRyCt"
   },
   "outputs": [],
   "source": [
    "# Defining Custom ROC-AUC function\n",
    "from sklearn.metrics import roc_auc_score\n",
    "\n",
    "def auc1(y_true, y_pred):\n",
    "    if len(np.unique(y_true[:,1])) == 1:\n",
    "        return 0.5\n",
    "    else:\n",
    "        return roc_auc_score(y_true, y_pred)\n",
    "\n",
    "def auroc(y_true, y_pred):\n",
    "    return tf.py_func(auc1, (y_true, y_pred), tf.double)"
   ]
  },
  {
   "cell_type": "code",
   "execution_count": 0,
   "metadata": {
    "colab": {},
    "colab_type": "code",
    "id": "whShTTtvRyDB"
   },
   "outputs": [],
   "source": [
    "adam = Adam(lr=0.001, beta_1=0.9, beta_2=0.999, epsilon=None, decay=0.0, amsgrad=False)"
   ]
  },
  {
   "cell_type": "code",
   "execution_count": 50,
   "metadata": {
    "colab": {
     "base_uri": "https://localhost:8080/",
     "height": 292
    },
    "colab_type": "code",
    "id": "DKeB5deuRyDQ",
    "outputId": "fe74c068-edcd-4741-b4aa-7a8479b5cb5c"
   },
   "outputs": [
    {
     "name": "stdout",
     "output_type": "stream",
     "text": [
      "WARNING:tensorflow:From /usr/local/lib/python3.6/dist-packages/keras/optimizers.py:793: The name tf.train.Optimizer is deprecated. Please use tf.compat.v1.train.Optimizer instead.\n",
      "\n",
      "WARNING:tensorflow:From <ipython-input-48-a7e6cba44e56>:10: py_func (from tensorflow.python.ops.script_ops) is deprecated and will be removed in a future version.\n",
      "Instructions for updating:\n",
      "tf.py_func is deprecated in TF V2. Instead, there are two\n",
      "    options available in V2.\n",
      "    - tf.py_function takes a python function which manipulates tf eager\n",
      "    tensors instead of numpy arrays. It's easy to convert a tf eager tensor to\n",
      "    an ndarray (just call tensor.numpy()) but having access to eager tensors\n",
      "    means `tf.py_function`s can use accelerators such as GPUs as well as\n",
      "    being differentiable using a gradient tape.\n",
      "    - tf.numpy_function maintains the semantics of the deprecated tf.py_func\n",
      "    (it is not differentiable, and manipulates numpy arrays). It drops the\n",
      "    stateful argument making all functions stateful.\n",
      "    \n"
     ]
    }
   ],
   "source": [
    "model_2.compile(optimizer=adam, loss='categorical_crossentropy', metrics=[auroc])"
   ]
  },
  {
   "cell_type": "code",
   "execution_count": 51,
   "metadata": {
    "colab": {
     "base_uri": "https://localhost:8080/",
     "height": 1000
    },
    "colab_type": "code",
    "id": "iJoWnjwLRyDX",
    "outputId": "dc838385-2be6-4363-b7b0-a08e05995fcb",
    "scrolled": false
   },
   "outputs": [
    {
     "name": "stdout",
     "output_type": "stream",
     "text": [
      "WARNING:tensorflow:From /usr/local/lib/python3.6/dist-packages/tensorflow/python/ops/math_grad.py:1250: add_dispatch_support.<locals>.wrapper (from tensorflow.python.ops.array_ops) is deprecated and will be removed in a future version.\n",
      "Instructions for updating:\n",
      "Use tf.where in 2.0, which has the same broadcast rule as np.where\n",
      "Train on 81936 samples, validate on 27312 samples\n",
      "WARNING:tensorflow:From /usr/local/lib/python3.6/dist-packages/keras/callbacks.py:1122: The name tf.summary.merge_all is deprecated. Please use tf.compat.v1.summary.merge_all instead.\n",
      "\n",
      "WARNING:tensorflow:From /usr/local/lib/python3.6/dist-packages/keras/callbacks.py:1125: The name tf.summary.FileWriter is deprecated. Please use tf.compat.v1.summary.FileWriter instead.\n",
      "\n",
      "Epoch 1/30\n",
      "81936/81936 [==============================] - 75s 910us/step - loss: 1.0141 - auroc: 0.6706 - val_loss: 0.6913 - val_auroc: 0.7289\n",
      "\n",
      "Epoch 00001: val_loss improved from inf to 0.69125, saving model to model_2.h5\n",
      "Epoch 2/30\n",
      "81936/81936 [==============================] - 73s 896us/step - loss: 0.5739 - auroc: 0.7312 - val_loss: 0.5311 - val_auroc: 0.7439\n",
      "\n",
      "Epoch 00002: val_loss improved from 0.69125 to 0.53105, saving model to model_2.h5\n",
      "Epoch 3/30\n",
      "81936/81936 [==============================] - 73s 896us/step - loss: 0.4681 - auroc: 0.7479 - val_loss: 0.4472 - val_auroc: 0.7527\n",
      "\n",
      "Epoch 00003: val_loss improved from 0.53105 to 0.44721, saving model to model_2.h5\n",
      "Epoch 4/30\n",
      "81936/81936 [==============================] - 74s 902us/step - loss: 0.4277 - auroc: 0.7562 - val_loss: 0.4180 - val_auroc: 0.7554\n",
      "\n",
      "Epoch 00004: val_loss improved from 0.44721 to 0.41802, saving model to model_2.h5\n",
      "Epoch 5/30\n",
      "81936/81936 [==============================] - 73s 892us/step - loss: 0.4077 - auroc: 0.7598 - val_loss: 0.4179 - val_auroc: 0.7561\n",
      "\n",
      "Epoch 00005: val_loss improved from 0.41802 to 0.41786, saving model to model_2.h5\n",
      "Epoch 6/30\n",
      "81936/81936 [==============================] - 73s 894us/step - loss: 0.3976 - auroc: 0.7608 - val_loss: 0.4140 - val_auroc: 0.7596\n",
      "\n",
      "Epoch 00006: val_loss improved from 0.41786 to 0.41397, saving model to model_2.h5\n",
      "Epoch 7/30\n",
      "81936/81936 [==============================] - 74s 898us/step - loss: 0.3934 - auroc: 0.7625 - val_loss: 0.3929 - val_auroc: 0.7578\n",
      "\n",
      "Epoch 00007: val_loss improved from 0.41397 to 0.39290, saving model to model_2.h5\n",
      "Epoch 8/30\n",
      "81936/81936 [==============================] - 74s 905us/step - loss: 0.3869 - auroc: 0.7652 - val_loss: 0.3960 - val_auroc: 0.7572\n",
      "\n",
      "Epoch 00008: val_loss did not improve from 0.39290\n",
      "Epoch 9/30\n",
      "81936/81936 [==============================] - 74s 905us/step - loss: 0.3866 - auroc: 0.7661 - val_loss: 0.3919 - val_auroc: 0.7597\n",
      "\n",
      "Epoch 00009: val_loss improved from 0.39290 to 0.39190, saving model to model_2.h5\n",
      "Epoch 10/30\n",
      "81936/81936 [==============================] - 74s 906us/step - loss: 0.3849 - auroc: 0.7663 - val_loss: 0.3831 - val_auroc: 0.7598\n",
      "\n",
      "Epoch 00010: val_loss improved from 0.39190 to 0.38313, saving model to model_2.h5\n",
      "Epoch 11/30\n",
      "81936/81936 [==============================] - 75s 911us/step - loss: 0.3820 - auroc: 0.7676 - val_loss: 0.3885 - val_auroc: 0.7600\n",
      "\n",
      "Epoch 00011: val_loss did not improve from 0.38313\n",
      "Epoch 12/30\n",
      "81936/81936 [==============================] - 75s 910us/step - loss: 0.3813 - auroc: 0.7680 - val_loss: 0.3870 - val_auroc: 0.7607\n",
      "\n",
      "Epoch 00012: val_loss did not improve from 0.38313\n",
      "\n",
      "Epoch 00012: ReduceLROnPlateau reducing learning rate to 0.00020000000949949026.\n",
      "Epoch 13/30\n",
      "81936/81936 [==============================] - 74s 904us/step - loss: 0.3723 - auroc: 0.7755 - val_loss: 0.3796 - val_auroc: 0.7629\n",
      "\n",
      "Epoch 00013: val_loss improved from 0.38313 to 0.37965, saving model to model_2.h5\n",
      "Epoch 14/30\n",
      "81936/81936 [==============================] - 74s 902us/step - loss: 0.3673 - auroc: 0.7806 - val_loss: 0.3788 - val_auroc: 0.7627\n",
      "\n",
      "Epoch 00014: val_loss improved from 0.37965 to 0.37884, saving model to model_2.h5\n",
      "Epoch 15/30\n",
      "81936/81936 [==============================] - 74s 906us/step - loss: 0.3660 - auroc: 0.7828 - val_loss: 0.3781 - val_auroc: 0.7641\n",
      "\n",
      "Epoch 00015: val_loss improved from 0.37884 to 0.37815, saving model to model_2.h5\n",
      "Epoch 16/30\n",
      "81936/81936 [==============================] - 75s 914us/step - loss: 0.3644 - auroc: 0.7855 - val_loss: 0.3800 - val_auroc: 0.7616\n",
      "\n",
      "Epoch 00016: val_loss did not improve from 0.37815\n",
      "Epoch 17/30\n",
      "81936/81936 [==============================] - 74s 908us/step - loss: 0.3635 - auroc: 0.7875 - val_loss: 0.3804 - val_auroc: 0.7624\n",
      "\n",
      "Epoch 00017: val_loss did not improve from 0.37815\n",
      "\n",
      "Epoch 00017: ReduceLROnPlateau reducing learning rate to 4.0000001899898055e-05.\n",
      "Epoch 18/30\n",
      "81936/81936 [==============================] - 74s 903us/step - loss: 0.3594 - auroc: 0.7928 - val_loss: 0.3804 - val_auroc: 0.7625\n",
      "\n",
      "Epoch 00018: val_loss did not improve from 0.37815\n",
      "Epoch 19/30\n",
      "81936/81936 [==============================] - 74s 902us/step - loss: 0.3575 - auroc: 0.7952 - val_loss: 0.3807 - val_auroc: 0.7623\n",
      "\n",
      "Epoch 00019: val_loss did not improve from 0.37815\n",
      "\n",
      "Epoch 00019: ReduceLROnPlateau reducing learning rate to 8.000000525498762e-06.\n",
      "Epoch 20/30\n",
      "81936/81936 [==============================] - 74s 903us/step - loss: 0.3565 - auroc: 0.7959 - val_loss: 0.3809 - val_auroc: 0.7622\n",
      "\n",
      "Epoch 00020: val_loss did not improve from 0.37815\n",
      "Restoring model weights from the end of the best epoch\n",
      "Epoch 00020: early stopping\n"
     ]
    }
   ],
   "source": [
    "history_2 = model_2.fit(train_data_2, Y_train, batch_size=512,\n",
    "                        epochs=30, validation_data=(test_data_2,Y_test), callbacks=callbacks_2)"
   ]
  },
  {
   "cell_type": "code",
   "execution_count": 52,
   "metadata": {
    "colab": {
     "base_uri": "https://localhost:8080/",
     "height": 531
    },
    "colab_type": "code",
    "id": "hgkj62AMRyDg",
    "outputId": "033c1d0d-6ffd-409a-ffe3-ff322b8452bc"
   },
   "outputs": [
    {
     "data": {
      "image/png": "[encoded data removed]",
      "text/plain": [
       "<Figure size 432x288 with 1 Axes>"
      ]
     },
     "metadata": {
      "tags": []
     },
     "output_type": "display_data"
    },
    {
     "data": {
      "image/png": "[encoded data removed]",
      "text/plain": [
       "<Figure size 432x288 with 1 Axes>"
      ]
     },
     "metadata": {
      "tags": []
     },
     "output_type": "display_data"
    }
   ],
   "source": [
    "sns.set()\n",
    "plt.plot(history_2.history['auroc'], 'r')\n",
    "plt.plot(history_2.history['val_auroc'], 'b')\n",
    "plt.legend({'Train ROCAUC': 'r', 'Test ROCAUC':'b'})\n",
    "plt.show()\n",
    "\n",
    "\n",
    "plt.plot(history_2.history['loss'], 'r')\n",
    "plt.plot(history_2.history['val_loss'], 'b')\n",
    "plt.legend({'Train Loss': 'r', 'Test Loss':'b'})\n",
    "plt.show()"
   ]
  },
  {
   "cell_type": "markdown",
   "metadata": {
    "colab": {},
    "colab_type": "code",
    "id": "zySEalj_RyDt"
   },
   "source": [
    "### AUC Score for Model 2  - 0.7622"
   ]
  }
 ],
 "metadata": {
  "accelerator": "GPU",
  "colab": {
   "collapsed_sections": [],
   "name": "Donors Choose - Model 2.ipynb",
   "provenance": []
  },
  "kernelspec": {
   "display_name": "Python 3",
   "language": "python",
   "name": "python3"
  },
  "language_info": {
   "codemirror_mode": {
    "name": "ipython",
    "version": 3
   },
   "file_extension": ".py",
   "mimetype": "text/x-python",
   "name": "python",
   "nbconvert_exporter": "python",
   "pygments_lexer": "ipython3",
   "version": "3.7.1"
  }
 },
 "nbformat": 4,
 "nbformat_minor": 1
}
